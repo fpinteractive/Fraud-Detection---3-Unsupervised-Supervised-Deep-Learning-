{
  "nbformat": 4,
  "nbformat_minor": 0,
  "metadata": {
    "colab": {
      "name": "Final Capstone-Credit Card Fraud Detection.ipynb",
      "provenance": [],
      "collapsed_sections": [],
      "toc_visible": true
    },
    "kernelspec": {
      "name": "python3",
      "display_name": "Python 3"
    }
  },
  "cells": [
    {
      "cell_type": "markdown",
      "metadata": {
        "id": "jw4T0niXvLhp"
      },
      "source": [
        "<center> <h1> **Fraud Detection**</h1> <br>\n",
        "<h2>\n",
        "This is a simulated credit card transaction dataset created by an A.I. that has legitimate and fraudulent transactions during the span of *1st Jan 2019 - 31st Dec 2020.* <br> It contains the records of credit card purchases of 1000 customers doing transactions spanning from 800 different merchants. \t</h2></center>\n",
        "<p>\n",
        "1. trans_date_trans_time<br>\n",
        "2. cc_num<br>\n",
        "3. merchant name<br>\n",
        "4. category (of purchase type)<br>\n",
        "5. amt (amount of purchase)<br>\n",
        "6. first last (name)<br>\n",
        "7. gender<br>\n",
        "8. zip (zipcode of customer) ((probably don't need this if we convert the lat&long to zipcodes))<br>\n",
        "9.\tlat of customer home address(latitude)\t<br>\n",
        "10. long of cust home address(longitude)\t<br>\n",
        "11. city_pop of cust<br>\n",
        "12.\tjob\t<br>\n",
        "13. dob(date of birth)<br>\t\n",
        "14. trans_num(transaction number)<br>\t\n",
        "15. unix_time\t<br>\n",
        "16. merch_lat\t(merchant latitude)<br>\n",
        "17. merch_long (merchant longitude)\t<br>\n",
        "18. is_fraud (binary classifier)<br>\n",
        "</p>\n"
      ]
    },
    {
      "cell_type": "markdown",
      "metadata": {
        "id": "w7bVtIcT6ihW"
      },
      "source": [
        "<center><h2> In this project will employ the Semi-Supervised Learning using the following techniques:</center></h2>\n",
        "\n",
        "1. Stacking, boosting and bagging for creation of Meta-Classifiers\n",
        "2. DNN and Keras metrics for imbalanced data\n",
        "3. Random forest \n",
        "4. Anomaly detection w/ LOF  &  Isolation Forest models\n",
        "5. SVC\n",
        "6. KNN clusters\n",
        "7. Ridge Regression\n",
        "8. Extra Trees\n",
        "9. TSNE w/ KNN"
      ]
    },
    {
      "cell_type": "markdown",
      "metadata": {
        "id": "vCOHCHlE3Fsd"
      },
      "source": [
        "#Import & Setup"
      ]
    },
    {
      "cell_type": "code",
      "metadata": {
        "id": "M3qP77gp5Xsc"
      },
      "source": [
        "import matplotlib.pyplot as plt\n",
        "import numpy as np\n",
        "import scipy.stats as stats\n",
        "import pandas\n",
        "import pandas as pd\n",
        "import seaborn as sns\n",
        "from decimal import Decimal\n",
        "from sklearn.model_selection import KFold\n",
        "from sklearn.neighbors import KNeighborsClassifier\n",
        "from sklearn.tree import DecisionTreeClassifier\n",
        "from sklearn.svm import SVC\n",
        "from sklearn.ensemble import RandomForestClassifier\n",
        "from sklearn.linear_model import LogisticRegression\n",
        "from sklearn.naive_bayes import BernoulliNB\n",
        "from sklearn.model_selection import cross_val_score\n",
        "from sklearn.preprocessing import StandardScaler\n",
        "from sklearn import preprocessing\n",
        "from scipy.stats import skew, boxcox\n",
        "from sklearn.model_selection import train_test_split, learning_curve\n",
        "from sklearn.pipeline import make_pipeline\n",
        "from sklearn.metrics import confusion_matrix, precision_score, recall_score, accuracy_score\n",
        "from sklearn.metrics import average_precision_score, classification_report\n",
        "from sklearn.model_selection import cross_val_score\n",
        "from sklearn.feature_selection import RFE\n",
        "from sklearn.linear_model import RidgeCV, LassoCV, Ridge, Lasso\n",
        "from sklearn.neighbors import KNeighborsRegressor\n",
        "from sklearn.model_selection import GridSearchCV\n",
        "from sklearn.preprocessing import LabelEncoder\n",
        "from xgboost.sklearn import XGBClassifier\n",
        "from xgboost import plot_importance, to_graphviz\n",
        "from sklearn.metrics import plot_confusion_matrix\n",
        "from sklearn.svm import SVR\n",
        "from sklearn.svm import SVC\n",
        "import itertools\n",
        "import time\n",
        "from warnings import filterwarnings\n",
        "from sklearn import ensemble\n",
        "from sqlalchemy import create_engine\n",
        "from scipy.stats import zscore\n",
        "pd.options.display.float_format = '{:.2f}'.format\n",
        "%matplotlib inline\n"
      ],
      "execution_count": null,
      "outputs": []
    },
    {
      "cell_type": "markdown",
      "metadata": {
        "id": "5N-9JurXrsUB"
      },
      "source": [
        "###Exploratory dataset"
      ]
    },
    {
      "cell_type": "code",
      "metadata": {
        "id": "Z17fCjyZI3U3"
      },
      "source": [
        "#This is strictly to pull up unique() and nunique() after modifying our dataset later on\n",
        "fraud_df = pd.read_csv('https://storage.googleapis.com/datasets_for_analysis/fraudTest%5B1%5D.csv', index_col = False, error_bad_lines=False)\n",
        "\n",
        "#This code will create dummy columns for all the category options of purchases and rewrite the DF to be onehot encoded!\n",
        "#fraud_df = pd.get_dummies(fraud_df, prefix='cat', prefix_sep='.', columns=['category'], drop_first=True)\n",
        "\n",
        "#This will delete the first column which is just a row counter\n",
        "fraud_df.drop(columns=['Unnamed: 0'],axis=1,inplace=True)"
      ],
      "execution_count": null,
      "outputs": []
    },
    {
      "cell_type": "markdown",
      "metadata": {
        "id": "uUF_Xal5rxeW"
      },
      "source": [
        "###Dataset for modeling"
      ]
    },
    {
      "cell_type": "code",
      "metadata": {
        "id": "5eLFS5Oi5ZCA"
      },
      "source": [
        "#import csv files from the Google Storage Database\n",
        "fraud_df_test = pd.read_csv('https://storage.googleapis.com/datasets_for_analysis/fraudTest%5B1%5D.csv', index_col = False, error_bad_lines=False)\n",
        "#all code to pull up csv\n",
        "fraud_df_train= pd.read_csv('https://storage.googleapis.com/datasets_for_analysis/fraudTrain.csv', index_col = False, error_bad_lines=False)\n",
        "\n",
        "#Concat the dataframs together\n",
        "fraud = pd.concat([fraud_df_train, fraud_df_test])\n",
        "fraud.reset_index(drop=True, inplace=True)\n",
        "fraud.drop(columns=['Unnamed: 0'],axis=1,inplace=True)"
      ],
      "execution_count": null,
      "outputs": []
    },
    {
      "cell_type": "code",
      "metadata": {
        "id": "_uTDk4a6pmYK",
        "outputId": "cd4e8e74-bf2a-4d3b-e4f6-3a4035f68171",
        "colab": {
          "base_uri": "https://localhost:8080/",
          "height": 134
        }
      },
      "source": [
        "fraud.head(1)"
      ],
      "execution_count": null,
      "outputs": [
        {
          "output_type": "execute_result",
          "data": {
            "text/html": [
              "<div>\n",
              "<style scoped>\n",
              "    .dataframe tbody tr th:only-of-type {\n",
              "        vertical-align: middle;\n",
              "    }\n",
              "\n",
              "    .dataframe tbody tr th {\n",
              "        vertical-align: top;\n",
              "    }\n",
              "\n",
              "    .dataframe thead th {\n",
              "        text-align: right;\n",
              "    }\n",
              "</style>\n",
              "<table border=\"1\" class=\"dataframe\">\n",
              "  <thead>\n",
              "    <tr style=\"text-align: right;\">\n",
              "      <th></th>\n",
              "      <th>trans_date_trans_time</th>\n",
              "      <th>cc_num</th>\n",
              "      <th>merchant</th>\n",
              "      <th>category</th>\n",
              "      <th>amt</th>\n",
              "      <th>first</th>\n",
              "      <th>last</th>\n",
              "      <th>gender</th>\n",
              "      <th>street</th>\n",
              "      <th>city</th>\n",
              "      <th>state</th>\n",
              "      <th>zip</th>\n",
              "      <th>lat</th>\n",
              "      <th>long</th>\n",
              "      <th>city_pop</th>\n",
              "      <th>job</th>\n",
              "      <th>dob</th>\n",
              "      <th>trans_num</th>\n",
              "      <th>unix_time</th>\n",
              "      <th>merch_lat</th>\n",
              "      <th>merch_long</th>\n",
              "      <th>is_fraud</th>\n",
              "    </tr>\n",
              "  </thead>\n",
              "  <tbody>\n",
              "    <tr>\n",
              "      <th>0</th>\n",
              "      <td>2019-01-01 00:00:18</td>\n",
              "      <td>2703186189652095</td>\n",
              "      <td>fraud_Rippin, Kub and Mann</td>\n",
              "      <td>misc_net</td>\n",
              "      <td>4.97</td>\n",
              "      <td>Jennifer</td>\n",
              "      <td>Banks</td>\n",
              "      <td>F</td>\n",
              "      <td>561 Perry Cove</td>\n",
              "      <td>Moravian Falls</td>\n",
              "      <td>NC</td>\n",
              "      <td>28654</td>\n",
              "      <td>36.08</td>\n",
              "      <td>-81.18</td>\n",
              "      <td>3495</td>\n",
              "      <td>Psychologist, counselling</td>\n",
              "      <td>1988-03-09</td>\n",
              "      <td>0b242abb623afc578575680df30655b9</td>\n",
              "      <td>1325376018</td>\n",
              "      <td>36.01</td>\n",
              "      <td>-82.05</td>\n",
              "      <td>0</td>\n",
              "    </tr>\n",
              "  </tbody>\n",
              "</table>\n",
              "</div>"
            ],
            "text/plain": [
              "  trans_date_trans_time            cc_num  ... merch_long is_fraud\n",
              "0   2019-01-01 00:00:18  2703186189652095  ...     -82.05        0\n",
              "\n",
              "[1 rows x 22 columns]"
            ]
          },
          "metadata": {
            "tags": []
          },
          "execution_count": 10
        }
      ]
    },
    {
      "cell_type": "markdown",
      "metadata": {
        "id": "Sr2-xEpC5nwm"
      },
      "source": [
        "#Functions\n",
        "\n"
      ]
    },
    {
      "cell_type": "code",
      "metadata": {
        "id": "N1N7fEoE5Y2x"
      },
      "source": [
        "#This is a great test to check for outliers\n",
        "def grubbs_test(x):\n",
        "    n = len(x)\n",
        "    mean_x = np.mean(x)\n",
        "    sd_x = np.std(x)\n",
        "    numerator = max(abs(x-mean_x))\n",
        "    g_calculated = numerator/sd_x\n",
        "    print(\"Grubbs Calculated Value:\",g_calculated)\n",
        "    t_value = stats.t.ppf(1 - 0.05 / (2 * n), n - 2)\n",
        "    g_critical = ((n - 1) * np.sqrt(np.square(t_value))) / (np.sqrt(n) * np.sqrt(n - 2 + np.square(t_value)))\n",
        "    print(\"Grubbs Critical Value:\",g_critical)\n",
        "    if g_critical > g_calculated:\n",
        "        print(\"From grubbs_test we observe that calculated value is lesser than critical value, Accept null hypothesis and conclude that there is no outliers\\n\")\n",
        "    else:\n",
        "        print(\"From grubbs_test we observe that calculated value is greater than critical value, Reject null hypothesis and conclude that there is an outliers\\n\")\n",
        "\n",
        "#Simply boxplot\n",
        "def Box_plots(df):\n",
        "    plt.figure(figsize=(10, 4))\n",
        "    plt.title(\"Box Plot\")\n",
        "    sns.boxplot(df)\n",
        "    plt.show()\n",
        "\n",
        "#Simple histogram plot\n",
        "def hist_plots(df):\n",
        "    plt.figure(figsize=(10, 4))\n",
        "    plt.hist(df)\n",
        "    plt.title(\"Histogram Plot\")\n",
        "    plt.show()\n",
        "\n",
        "#Simple scatter plot\n",
        "def scatter_plots(df1,df2):\n",
        "    fig, ax = plt.subplots(figsize=(10,4))\n",
        "    ax.scatter(df1,df2)\n",
        "    ax.set_xlabel('Age')\n",
        "    ax.set_ylabel('Fare')\n",
        "    plt.title(\"Scatter Plot\")\n",
        "    plt.show()\n",
        "\n",
        "#To get a tukey to help with outliers\n",
        "def get_tukey(df,tukey_col):\n",
        "    q75, q25 = np.percentile(df[tukey_col], [75 ,25])\n",
        "    iqr = q75 - q25\n",
        "    tukey_dict = {}\n",
        "    for threshold in np.arange(1,5.5,0.5):\n",
        "        min_val = q25 - (iqr*threshold)\n",
        "        max_val = q75 + (iqr*threshold)\n",
        "#        print(\"The score threshold is: {}\".format(threshold))\n",
        "        num_outliers = len((np.where((df[tukey_col] > max_val) | (df[tukey_col] < min_val))[0]))\n",
        "#        print(\"Number of outliers is: {}\".format(num_outliers))\n",
        "        tukey_dict.update({threshold: [min_val, max_val, num_outliers]})\n",
        "    return tukey_dict\n",
        "\n",
        "#For a zscore \n",
        "def get_zscore(df,z_col):\n",
        "    z_scores = zscore(df[z_col])\n",
        "    z_dict = {}\n",
        "    for threshold in range(1,5):\n",
        "        print(\"The score threshold is: {}\".format(threshold))\n",
        "        print(\"The indices of the outliers:\")\n",
        "        outlier_indices = np.where(z_scores > threshold)\n",
        "        print(outlier_indices)\n",
        "        num_outliers = len((np.where(z_scores > threshold)[0]))\n",
        "        print(\"Number of outliers is: {}\".format(num_outliers))\n",
        "        z_dict.update({threshold: outlier_indices})\n",
        "    return z_dict"
      ],
      "execution_count": null,
      "outputs": []
    },
    {
      "cell_type": "code",
      "metadata": {
        "id": "5hrqyZhm4afV"
      },
      "source": [
        "#Notice in the 'merchant' column for some reason the word 'fraud_' is printed infront of each retailer, let's remove that\n",
        "fraud.replace(\"fraud_\", \"\", regex=True, inplace=True) \n",
        "#Rename columns\n",
        "fraud_df.rename(columns={'trans_date_trans_time': 'trans_date_time'}, inplace=True)"
      ],
      "execution_count": null,
      "outputs": []
    },
    {
      "cell_type": "code",
      "metadata": {
        "id": "wsuMy8iRrrgw"
      },
      "source": [
        "#Group columns for easier analysis\n",
        "fraud['customer_name'] = fraud['first'] + [' '] + fraud['last']"
      ],
      "execution_count": null,
      "outputs": []
    },
    {
      "cell_type": "code",
      "metadata": {
        "id": "x6BHVCFRyzcv"
      },
      "source": [
        "#split the date time to two separate columns\n",
        "fraud_df['trans_date_time'] = pd.to_datetime(fraud_df['trans_date_time']) \n",
        "fraud_df['date'] = fraud_df['trans_date_time'].dt.strftime('%d/%m/%Y')\n",
        "#fraud_df_train['time'] = fraud_df_train['trans_date_time'].dt.strftime('%H:%M')\n",
        "\n",
        "#Drop the trans_date_time column now that it's split\n",
        "fraud_df.drop(columns='trans_date_time', inplace=True)\n",
        "#Drop unnecessary columns\n",
        "fraud.drop(columns=['city', 'state', 'street', 'first', 'last'], inplace=True)"
      ],
      "execution_count": null,
      "outputs": []
    },
    {
      "cell_type": "markdown",
      "metadata": {
        "id": "T3Wi7OzV3UzL"
      },
      "source": [
        "#Exploratory Data Analysis"
      ]
    },
    {
      "cell_type": "markdown",
      "metadata": {
        "id": "zRHpTMtrDLYN"
      },
      "source": [
        "##Check for duplicates"
      ]
    },
    {
      "cell_type": "code",
      "metadata": {
        "id": "tz-ifXdQDKz4",
        "outputId": "f420a47a-cc88-4d73-b854-030a6f97676a",
        "colab": {
          "base_uri": "https://localhost:8080/",
          "height": 107
        }
      },
      "source": [
        "# Select duplicate rows except first occurrence based on all columns\n",
        "duplicateRowsDF_train = fraud[fraud.duplicated()]\n",
        "print(\"Duplicate Rows except first occurrence based on all columns are :\")\n",
        "print(duplicateRowsDF_train)"
      ],
      "execution_count": null,
      "outputs": [
        {
          "output_type": "stream",
          "text": [
            "Duplicate Rows except first occurrence based on all columns are :\n",
            "Empty DataFrame\n",
            "Columns: [trans_date_trans_time, cc_num, merchant, category, amt, gender, zip, lat, long, city_pop, job, dob, trans_num, unix_time, merch_lat, merch_long, is_fraud, customer_name]\n",
            "Index: []\n"
          ],
          "name": "stdout"
        }
      ]
    },
    {
      "cell_type": "code",
      "metadata": {
        "id": "fnaFvAAu1_5h"
      },
      "source": [
        "fraud.set_index(['customer_name'], inplace=True)"
      ],
      "execution_count": null,
      "outputs": []
    },
    {
      "cell_type": "markdown",
      "metadata": {
        "id": "6HLkDcmVdOdB"
      },
      "source": [
        "Check for nulls"
      ]
    },
    {
      "cell_type": "code",
      "metadata": {
        "id": "f6PHga_qE9-w",
        "outputId": "ef9b2825-fee8-43b4-c981-621c7e83bde0",
        "colab": {
          "base_uri": "https://localhost:8080/",
          "height": 334
        }
      },
      "source": [
        "#This will check to see the percentage of data that is null\n",
        "fraud.isnull().sum()*100/fraud.isnull().count()"
      ],
      "execution_count": null,
      "outputs": [
        {
          "output_type": "execute_result",
          "data": {
            "text/plain": [
              "trans_date_trans_time   0.00\n",
              "cc_num                  0.00\n",
              "merchant                0.00\n",
              "category                0.00\n",
              "amt                     0.00\n",
              "gender                  0.00\n",
              "zip                     0.00\n",
              "lat                     0.00\n",
              "long                    0.00\n",
              "city_pop                0.00\n",
              "job                     0.00\n",
              "dob                     0.00\n",
              "trans_num               0.00\n",
              "unix_time               0.00\n",
              "merch_lat               0.00\n",
              "merch_long              0.00\n",
              "is_fraud                0.00\n",
              "dtype: float64"
            ]
          },
          "metadata": {
            "tags": []
          },
          "execution_count": 17
        }
      ]
    },
    {
      "cell_type": "code",
      "metadata": {
        "id": "jRFPZio47Pie",
        "outputId": "b4a1130e-c9c0-47ec-a109-324e1f7b7124",
        "colab": {
          "base_uri": "https://localhost:8080/",
          "height": 439
        }
      },
      "source": [
        "fraud.info()"
      ],
      "execution_count": null,
      "outputs": [
        {
          "output_type": "stream",
          "text": [
            "<class 'pandas.core.frame.DataFrame'>\n",
            "Index: 1852394 entries, Jennifer Banks to Samuel Frey\n",
            "Data columns (total 17 columns):\n",
            " #   Column                 Dtype  \n",
            "---  ------                 -----  \n",
            " 0   trans_date_trans_time  object \n",
            " 1   cc_num                 int64  \n",
            " 2   merchant               object \n",
            " 3   category               object \n",
            " 4   amt                    float64\n",
            " 5   gender                 object \n",
            " 6   zip                    int64  \n",
            " 7   lat                    float64\n",
            " 8   long                   float64\n",
            " 9   city_pop               int64  \n",
            " 10  job                    object \n",
            " 11  dob                    object \n",
            " 12  trans_num              object \n",
            " 13  unix_time              int64  \n",
            " 14  merch_lat              float64\n",
            " 15  merch_long             float64\n",
            " 16  is_fraud               int64  \n",
            "dtypes: float64(5), int64(5), object(7)\n",
            "memory usage: 254.4+ MB\n"
          ],
          "name": "stdout"
        }
      ]
    },
    {
      "cell_type": "code",
      "metadata": {
        "id": "jhdwP7Cc950u",
        "outputId": "ae3a2c54-133e-4862-8925-4b1fb9180119",
        "colab": {
          "base_uri": "https://localhost:8080/",
          "height": 70
        }
      },
      "source": [
        "#Lets transform this column so that we can do some simple math\n",
        "fraud_df['is_fraud'].astype(str).astype(int)\n",
        "\n",
        "#Determine how much of the data is fraud vs normal transactions\n",
        "fraud_true = fraud_df[fraud_df['is_fraud'] == 1]\n",
        "fraud_true =  fraud_true.shape[0]\n",
        "normal = fraud_df[fraud_df['is_fraud'] == 0]\n",
        "normal = normal.shape[0]\n",
        "print('The amount of fraudulent transactions in the dataset are: {}'.format(fraud_true))\n",
        "print('The amount of normal transactions in the dataset are: {}'.format(normal))\n",
        "print('The percentage of fraud in our training data is: {:.4f} %' .format(fraud_true/normal))"
      ],
      "execution_count": null,
      "outputs": [
        {
          "output_type": "stream",
          "text": [
            "The amount of fraudulent transactions in the dataset are: 2145\n",
            "The amount of normal transactions in the dataset are: 553574\n",
            "The percentage of fraud in our training data is: 0.0039 %\n"
          ],
          "name": "stdout"
        }
      ]
    },
    {
      "cell_type": "markdown",
      "metadata": {
        "id": "zrz0gEtN5QMI"
      },
      "source": [
        "###*This data is highly unbalanced as only .4% of all transactions here are fraudulent, so it's literally going to be like finding a needle in a haystack. See figure below for a visual."
      ]
    },
    {
      "cell_type": "code",
      "metadata": {
        "id": "I5_yck9edRYn",
        "outputId": "fea7ab2b-1cda-4467-9a66-49ae05b57d90",
        "colab": {
          "base_uri": "https://localhost:8080/",
          "height": 278
        }
      },
      "source": [
        "fraud.is_fraud.value_counts().plot(kind='bar', title='Count (is_fraud)');"
      ],
      "execution_count": null,
      "outputs": [
        {
          "output_type": "display_data",
          "data": {
            "image/png": "[encoded data removed]",
            "text/plain": [
              "<Figure size 432x288 with 1 Axes>"
            ]
          },
          "metadata": {
            "tags": [],
            "needs_background": "light"
          }
        }
      ]
    },
    {
      "cell_type": "markdown",
      "metadata": {
        "id": "4i1aPfLmGjVj"
      },
      "source": [
        "<h3>This shows the distribution of purchase amounts for fraudulent transactions**</h3>\n"
      ]
    },
    {
      "cell_type": "code",
      "metadata": {
        "id": "YTX2P9IkAQyk",
        "outputId": "0eedbfdb-ff03-4bed-f2e7-3b954d7215ca",
        "colab": {
          "base_uri": "https://localhost:8080/",
          "height": 175
        }
      },
      "source": [
        "#Lets transform this back so that we can plot it\n",
        "fraud_df['is_fraud'].astype(str).astype(object)\n",
        "fraud_true = fraud_df[fraud_df['is_fraud'] == 1]\n",
        "normal = fraud_df[fraud_df['is_fraud'] == 0]\n",
        "fraud_true.amt.describe()"
      ],
      "execution_count": null,
      "outputs": [
        {
          "output_type": "execute_result",
          "data": {
            "text/plain": [
              "count   2145.00\n",
              "mean     528.36\n",
              "std      392.75\n",
              "min        1.78\n",
              "25%      214.51\n",
              "50%      371.94\n",
              "75%      907.77\n",
              "max     1320.92\n",
              "Name: amt, dtype: float64"
            ]
          },
          "metadata": {
            "tags": []
          },
          "execution_count": 21
        }
      ]
    },
    {
      "cell_type": "markdown",
      "metadata": {
        "id": "KLppRHa0HhwL"
      },
      "source": [
        "<h3>We see here that the max amount of a fraudulent purchase is only $1376**</h3>\n"
      ]
    },
    {
      "cell_type": "code",
      "metadata": {
        "id": "U9hhoSqE43UQ",
        "outputId": "f6b026ed-86d7-45a0-8347-de137daf5677",
        "colab": {
          "base_uri": "https://localhost:8080/",
          "height": 175
        }
      },
      "source": [
        "normal.amt.describe()"
      ],
      "execution_count": null,
      "outputs": [
        {
          "output_type": "execute_result",
          "data": {
            "text/plain": [
              "count   553574.00\n",
              "mean        67.61\n",
              "std        152.47\n",
              "min          1.00\n",
              "25%          9.60\n",
              "50%         47.15\n",
              "75%         82.62\n",
              "max      22768.11\n",
              "Name: amt, dtype: float64"
            ]
          },
          "metadata": {
            "tags": []
          },
          "execution_count": 22
        }
      ]
    },
    {
      "cell_type": "markdown",
      "metadata": {
        "id": "aUSimTV_4-gx"
      },
      "source": [
        "<h3>We see here that the max amount of a normal purchase is only $22768**</h3>\n"
      ]
    },
    {
      "cell_type": "markdown",
      "metadata": {
        "id": "ge0w9ixmt9hg"
      },
      "source": [
        "##Plot distribution of key columns\n",
        "\n",
        "\n"
      ]
    },
    {
      "cell_type": "code",
      "metadata": {
        "id": "yEV-72hrHifw",
        "outputId": "478ba617-2ad2-4297-c431-0e2a95d04c84",
        "colab": {
          "base_uri": "https://localhost:8080/",
          "height": 404
        }
      },
      "source": [
        "#Switch the column datatype back to object in order to call the hist function\n",
        "fraud_explore = fraud_df[fraud_df['is_fraud'] == 1]\n",
        "normal_explore = fraud_df[fraud_df['is_fraud'] == 0]\n",
        "\n",
        "# amount comparison - How different is the amount of money used in different transaction classes?\n",
        "fig, (ax1, ax2) = plt.subplots(1, 2, figsize=(15, 6))\n",
        "bins = 30\n",
        "\n",
        "ax1.hist(fraud_explore['amt'], bins=bins)\n",
        "ax2.hist(normal_explore['amt'], bins=bins)\n",
        "\n",
        "ax1.set_title('Fraud')\n",
        "ax2.set_title('Normal')\n",
        "\n",
        "ax1.set_xlabel('Amount ($)')\n",
        "ax2.set_xlabel('Amount ($)')\n",
        "ax1.set_ylabel('Number of Transactions')\n",
        "\n",
        "ax2.set_ylim(0, 320)\n",
        "plt.show()"
      ],
      "execution_count": null,
      "outputs": [
        {
          "output_type": "display_data",
          "data": {
            "image/png": "[encoded data removed]",
            "text/plain": [
              "<Figure size 1080x432 with 2 Axes>"
            ]
          },
          "metadata": {
            "tags": [],
            "needs_background": "light"
          }
        }
      ]
    },
    {
      "cell_type": "markdown",
      "metadata": {
        "id": "5EW16-0IDt81"
      },
      "source": [
        "<h3>As we can see, the non-fradulent list of purchase amounts has many outliers</h3>\n",
        "\n",
        "\n"
      ]
    },
    {
      "cell_type": "markdown",
      "metadata": {
        "id": "7B9cxofF7tG8"
      },
      "source": [
        "##Preprocessing unbalanced data"
      ]
    },
    {
      "cell_type": "markdown",
      "metadata": {
        "id": "X2lQ31vQg_Yq"
      },
      "source": [
        "Categories of Purchase Distributions\n",
        "---\n",
        "\n"
      ]
    },
    {
      "cell_type": "markdown",
      "metadata": {
        "id": "kl5I8R86JPVj"
      },
      "source": [
        "The different categories that we can check for our model are:<br>\n",
        "personal_care', 'health_fitness', 'misc_pos', 'travel',\n",
        "       'kids_pets', 'shopping_pos', 'food_dining', 'home',\n",
        "       'entertainment', 'shopping_net', 'misc_net', 'grocery_pos',\n",
        "       'gas_transport', 'grocery_net'"
      ]
    },
    {
      "cell_type": "code",
      "metadata": {
        "id": "cr4LAksE9W5z"
      },
      "source": [
        "#Create a copy of the df in order to do onehot encoding and save the original dataframe\n",
        "categories = fraud[['category', 'gender']].copy()\n",
        "\n",
        "#Get dummies for categories and gender\n",
        "fraud_cat = pd.get_dummies(categories[['category', 'gender']], drop_first=True)"
      ],
      "execution_count": null,
      "outputs": []
    },
    {
      "cell_type": "code",
      "metadata": {
        "id": "1x6fE1Vc929l"
      },
      "source": [
        "#Drop unnecessary column\n",
        "#fraud.drop(fraud.category, axis=1, inplace=True)\n",
        "\n",
        "#Combine the two arrays\n",
        "fraud_cat.reset_index(drop=True, inplace=True)\n",
        "fraud.reset_index(drop=True, inplace=True)\n",
        "fraud = pd.concat([fraud, fraud_cat], axis=1, sort=False)\n",
        "fraud.reset_index(drop=True, inplace=True)"
      ],
      "execution_count": null,
      "outputs": []
    },
    {
      "cell_type": "code",
      "metadata": {
        "id": "UoeKJzzZhGy7"
      },
      "source": [
        "# Class count\n",
        "count_class_0, count_class_1 = fraud.is_fraud.value_counts()\n",
        "\n",
        "#Determine how much of the data is fraud vs normal transactions\n",
        "fraud_true = fraud_df[fraud_df['is_fraud'] == 1]\n",
        "normal_true = fraud_df[fraud_df['is_fraud'] == 0]"
      ],
      "execution_count": null,
      "outputs": []
    },
    {
      "cell_type": "code",
      "metadata": {
        "id": "swRkCD9xD4As",
        "outputId": "ec19e186-3abc-4216-868f-ff37c2c2456a",
        "colab": {
          "base_uri": "https://localhost:8080/",
          "height": 705
        }
      },
      "source": [
        "#This will show us all of the fraudulent transactions in their respective categories\n",
        "\n",
        "plt.figure(figsize=[10,10])\n",
        "ax = fraud_true.groupby(['category', 'is_fraud']).size().plot(kind='bar')\n",
        "ax.set_title(\"# of transaction which are the actual fraud per transaction type\")\n",
        "ax.set_xlabel(\"(Category, is_fraud)\")\n",
        "ax.set_ylabel(\"Count of transaction\")\n",
        "for p in ax.patches:\n",
        "    ax.annotate(str(format(int(p.get_height()), ',d')), (p.get_x(), p.get_height()*1.01))"
      ],
      "execution_count": null,
      "outputs": [
        {
          "output_type": "display_data",
          "data": {
            "image/png": "[encoded data removed]",
            "text/plain": [
              "<Figure size 720x720 with 1 Axes>"
            ]
          },
          "metadata": {
            "tags": [],
            "needs_background": "light"
          }
        }
      ]
    },
    {
      "cell_type": "code",
      "metadata": {
        "id": "C4WGARMFhrBq",
        "outputId": "9b1d0b76-c8c8-44c8-e286-656cf20d376f",
        "colab": {
          "base_uri": "https://localhost:8080/",
          "height": 704
        }
      },
      "source": [
        "#This will show us all of the normal transactions in their respective categories\n",
        "\n",
        "plt.figure(figsize=[10,10])\n",
        "ax = normal_true.groupby(['category', 'is_fraud']).size().plot(kind='bar')\n",
        "ax.set_title(\"# of transaction which are the actual fraud per transaction type\")\n",
        "ax.set_xlabel(\"(Category, Normal)\")\n",
        "ax.set_ylabel(\"Count of transaction\")\n",
        "for p in ax.patches:\n",
        "    ax.annotate(str(format(int(p.get_height()), ',d')), (p.get_x(), p.get_height()*1.01))"
      ],
      "execution_count": null,
      "outputs": [
        {
          "output_type": "display_data",
          "data": {
            "image/png": "[encoded data removed]",
            "text/plain": [
              "<Figure size 720x720 with 1 Axes>"
            ]
          },
          "metadata": {
            "tags": [],
            "needs_background": "light"
          }
        }
      ]
    },
    {
      "cell_type": "code",
      "metadata": {
        "id": "JVWMQKrx-Fci",
        "outputId": "3955aef6-4bd9-44a6-91fe-91dd0e0b7545",
        "colab": {
          "base_uri": "https://localhost:8080/",
          "height": 595
        }
      },
      "source": [
        "plt.figure(figsize=(20, 10))\n",
        "splot=sns.barplot(x=\"category\", y=\"amt\", hue=\"gender\", palette=\"vlag\", ci=None, data=fraud_true)\n",
        "plt.ylabel(\"Mean Purchases in US Dollars\", size=14)\n",
        "plt.xlabel(\"Purchases\", size=14)\n",
        "plt.title(\"Barplot showing categorical purchases between men and women.\", size=18)\n",
        "for p in splot.patches:\n",
        "    splot.annotate(format(p.get_height(), '.0f'), \n",
        "                   (p.get_x() + p.get_width() / 2., p.get_height()), \n",
        "                   ha = 'center', va = 'center', \n",
        "                   size=15,\n",
        "                   xytext = (0, -12), \n",
        "                   textcoords = 'offset points')\n",
        "plt.savefig('Categorical ',dpi=150)"
      ],
      "execution_count": null,
      "outputs": [
        {
          "output_type": "display_data",
          "data": {
            "image/png": "[encoded data removed]",
            "text/plain": [
              "<Figure size 1440x720 with 1 Axes>"
            ]
          },
          "metadata": {
            "tags": [],
            "needs_background": "light"
          }
        }
      ]
    },
    {
      "cell_type": "markdown",
      "metadata": {
        "id": "5jAZNrNZv3nk"
      },
      "source": [
        "##Find Correlation"
      ]
    },
    {
      "cell_type": "code",
      "metadata": {
        "id": "1cc4gmJ7BJcs",
        "outputId": "1ea09e5b-bf27-4cb8-ec22-dfef13de9582",
        "colab": {
          "base_uri": "https://localhost:8080/",
          "height": 1000
        }
      },
      "source": [
        "# correlate life expectancy to all variables:\n",
        "corr = fraud_df.corr()\n",
        "\n",
        "def draw_heatmap(df,corr_thresh=.5):\n",
        "    \"\"\" Draws heatmap out of a dataframe. \n",
        "        Set corr_thresh to -1000 for full heatmap,\n",
        "        or keep default for strong correlation\n",
        "    \"\"\"\n",
        "    \n",
        "    # make the correlation matrix.\n",
        "    corr_mat = df.corr()\n",
        "\n",
        "    # move the column to head of list using index, pop and insert\n",
        "    cols = corr_mat.columns.to_list()\n",
        "    print (cols)\n",
        "\n",
        "    # reorder\n",
        "    corr_mat = corr_mat.loc[:, cols]\n",
        "    corr_mat.sort_values(by=['is_fraud'],ascending=False)\n",
        "\n",
        "    # figure aesthetics\n",
        "    plt.figure(figsize=(18,15))\n",
        "    plt.plot()\n",
        "    \n",
        "    # draw the heatmap using seaborn.\n",
        "    sns.heatmap(corr_mat[(corr_mat > corr_thresh)], square=True, annot=True, linewidths=.5)\n",
        "    plt.title(\"Correlation Matrix (Fraud Detection Features)\")\n",
        "    print(\"**Correlation Matrix (filtered for correlation above {}):**\".format(corr_thresh))\n",
        "    plt.show()\n",
        "\n",
        "draw_heatmap(fraud)"
      ],
      "execution_count": null,
      "outputs": [
        {
          "output_type": "stream",
          "text": [
            "['cc_num', 'amt', 'zip', 'lat', 'long', 'city_pop', 'unix_time', 'merch_lat', 'merch_long', 'is_fraud', 'category_food_dining', 'category_gas_transport', 'category_grocery_net', 'category_grocery_pos', 'category_health_fitness', 'category_home', 'category_kids_pets', 'category_misc_net', 'category_misc_pos', 'category_personal_care', 'category_shopping_net', 'category_shopping_pos', 'category_travel', 'gender_M']\n",
            "**Correlation Matrix (filtered for correlation above 0.5):**\n"
          ],
          "name": "stdout"
        },
        {
          "output_type": "display_data",
          "data": {
            "image/png": "[encoded data removed]",
            "text/plain": [
              "<Figure size 1296x1080 with 2 Axes>"
            ]
          },
          "metadata": {
            "tags": [],
            "needs_background": "light"
          }
        }
      ]
    },
    {
      "cell_type": "markdown",
      "metadata": {
        "id": "KrQ1KDZ4sTTd"
      },
      "source": [
        "Show outliers\n",
        "---\n",
        "\n"
      ]
    },
    {
      "cell_type": "code",
      "metadata": {
        "id": "E_JlOk8ToNzQ",
        "outputId": "2b6faa8c-ad81-464c-9872-5953d6794f8b",
        "colab": {
          "base_uri": "https://localhost:8080/",
          "height": 878
        }
      },
      "source": [
        "get_zscore(normal, 'amt')\n",
        "print('\\n')\n",
        "plt.title('Distribution for purchase amounts')\n",
        "ax1 = sns.distplot(normal['amt'],bins=10)\n",
        "print('\\n Show tukey \\n')\n",
        "get_tukey(normal, 'amt')"
      ],
      "execution_count": null,
      "outputs": [
        {
          "output_type": "stream",
          "text": [
            "The score threshold is: 1\n",
            "The indices of the outliers:\n",
            "(array([   100,    133,    167, ..., 553484, 553492, 553502]),)\n",
            "Number of outliers is: 18103\n",
            "The score threshold is: 2\n",
            "The indices of the outliers:\n",
            "(array([   133,    167,    405, ..., 553378, 553492, 553502]),)\n",
            "Number of outliers is: 8237\n",
            "The score threshold is: 3\n",
            "The indices of the outliers:\n",
            "(array([   133,    167,    428, ..., 553084, 553350, 553492]),)\n",
            "Number of outliers is: 4406\n",
            "The score threshold is: 4\n",
            "The indices of the outliers:\n",
            "(array([   167,    428,    720, ..., 553084, 553350, 553492]),)\n",
            "Number of outliers is: 2520\n",
            "\n",
            "\n"
          ],
          "name": "stdout"
        },
        {
          "output_type": "stream",
          "text": [
            "/usr/local/lib/python3.6/dist-packages/seaborn/distributions.py:2551: FutureWarning: `distplot` is a deprecated function and will be removed in a future version. Please adapt your code to use either `displot` (a figure-level function with similar flexibility) or `histplot` (an axes-level function for histograms).\n",
            "  warnings.warn(msg, FutureWarning)\n"
          ],
          "name": "stderr"
        },
        {
          "output_type": "stream",
          "text": [
            "\n",
            " Show tukey \n",
            "\n"
          ],
          "name": "stdout"
        },
        {
          "output_type": "execute_result",
          "data": {
            "text/plain": [
              "{1.0: [-63.42000000000001, 155.64000000000001, 40381],\n",
              " 1.5: [-99.93000000000002, 192.15000000000003, 26498],\n",
              " 2.0: [-136.44000000000003, 228.66000000000003, 16488],\n",
              " 2.5: [-172.95000000000002, 265.17, 12693],\n",
              " 3.0: [-209.46000000000004, 301.68000000000006, 10678],\n",
              " 3.5: [-245.97000000000006, 338.19000000000005, 9234],\n",
              " 4.0: [-282.48, 374.70000000000005, 8182],\n",
              " 4.5: [-318.99, 411.21000000000004, 7349],\n",
              " 5.0: [-355.5, 447.72, 6467]}"
            ]
          },
          "metadata": {
            "tags": []
          },
          "execution_count": 31
        },
        {
          "output_type": "display_data",
          "data": {
            "image/png": "[encoded data removed]",
            "text/plain": [
              "<Figure size 432x288 with 1 Axes>"
            ]
          },
          "metadata": {
            "tags": [],
            "needs_background": "light"
          }
        }
      ]
    },
    {
      "cell_type": "markdown",
      "metadata": {
        "id": "qybo9rmYJslO"
      },
      "source": [
        "<h2>This shows that the distribution is negatively skewed very strongly, let's take a closer look.</h2>"
      ]
    },
    {
      "cell_type": "markdown",
      "metadata": {
        "id": "w6lfFUHA7Xu1"
      },
      "source": [
        "<h2>Shows fraudulent outliers in the 'amount' column.</h2>"
      ]
    },
    {
      "cell_type": "code",
      "metadata": {
        "id": "bEYtj0he3TEi",
        "outputId": "1cfd6dcf-bb75-466c-e32a-aa67a9fee1f2",
        "colab": {
          "base_uri": "https://localhost:8080/",
          "height": 632
        }
      },
      "source": [
        "#This checks if we have outliers in our fraud cases\n",
        "print(fraud_true['amt'].describe())\n",
        "print('\\n')\n",
        "print(grubbs_test(fraud_true['amt']))\n",
        "\n",
        "#This prints the distribution of the 'AMT' column\n",
        "Box_plots(fraud_true['amt'])"
      ],
      "execution_count": null,
      "outputs": [
        {
          "output_type": "stream",
          "text": [
            "count   2145.00\n",
            "mean     528.36\n",
            "std      392.75\n",
            "min        1.78\n",
            "25%      214.51\n",
            "50%      371.94\n",
            "75%      907.77\n",
            "max     1320.92\n",
            "Name: amt, dtype: float64\n",
            "\n",
            "\n",
            "Grubbs Calculated Value: 2.0184676612318446\n",
            "Grubbs Critical Value: 4.2222424903417055\n",
            "From grubbs_test we observe that calculated value is lesser than critical value, Accept null hypothesis and conclude that there is no outliers\n",
            "\n",
            "None\n"
          ],
          "name": "stdout"
        },
        {
          "output_type": "stream",
          "text": [
            "/usr/local/lib/python3.6/dist-packages/seaborn/_decorators.py:43: FutureWarning: Pass the following variable as a keyword arg: x. From version 0.12, the only valid positional argument will be `data`, and passing other arguments without an explicit keyword will result in an error or misinterpretation.\n",
            "  FutureWarning\n"
          ],
          "name": "stderr"
        },
        {
          "output_type": "display_data",
          "data": {
            "image/png": "[encoded data removed]",
            "text/plain": [
              "<Figure size 720x288 with 1 Axes>"
            ]
          },
          "metadata": {
            "tags": [],
            "needs_background": "light"
          }
        }
      ]
    },
    {
      "cell_type": "code",
      "metadata": {
        "id": "tSXlZVCxInL1",
        "outputId": "f8658c28-0096-4d9a-d326-1d755349e33a",
        "colab": {
          "base_uri": "https://localhost:8080/",
          "height": 334
        }
      },
      "source": [
        "#This shows the z score for the normal purchases\n",
        "get_zscore(normal, 'amt')\n",
        "print('\\n This shows the non-fraudulent purchases.')"
      ],
      "execution_count": null,
      "outputs": [
        {
          "output_type": "stream",
          "text": [
            "The score threshold is: 1\n",
            "The indices of the outliers:\n",
            "(array([   100,    133,    167, ..., 553484, 553492, 553502]),)\n",
            "Number of outliers is: 18103\n",
            "The score threshold is: 2\n",
            "The indices of the outliers:\n",
            "(array([   133,    167,    405, ..., 553378, 553492, 553502]),)\n",
            "Number of outliers is: 8237\n",
            "The score threshold is: 3\n",
            "The indices of the outliers:\n",
            "(array([   133,    167,    428, ..., 553084, 553350, 553492]),)\n",
            "Number of outliers is: 4406\n",
            "The score threshold is: 4\n",
            "The indices of the outliers:\n",
            "(array([   167,    428,    720, ..., 553084, 553350, 553492]),)\n",
            "Number of outliers is: 2520\n",
            "\n",
            " This shows the non-fraudulent purchases.\n"
          ],
          "name": "stdout"
        }
      ]
    },
    {
      "cell_type": "markdown",
      "metadata": {
        "id": "Tgfctu0A7mnD"
      },
      "source": [
        "<h2>Shows normal transaction outliers in the 'amount' column.</h2>"
      ]
    },
    {
      "cell_type": "code",
      "metadata": {
        "id": "2pZpsyyu27E9",
        "outputId": "07f2cde9-a93e-42ad-b4df-ee234bcd0b34",
        "colab": {
          "base_uri": "https://localhost:8080/",
          "height": 632
        }
      },
      "source": [
        "#This checks if we have outliers in our normal purchases\n",
        "print(normal_true['amt'].describe())\n",
        "print('\\n')\n",
        "print(grubbs_test(normal_true['amt']))\n",
        "\n",
        "#This prints the distribution of the 'AMT' column\n",
        "Box_plots(normal_true['amt'])"
      ],
      "execution_count": null,
      "outputs": [
        {
          "output_type": "stream",
          "text": [
            "count   553574.00\n",
            "mean        67.61\n",
            "std        152.47\n",
            "min          1.00\n",
            "25%          9.60\n",
            "50%         47.15\n",
            "75%         82.62\n",
            "max      22768.11\n",
            "Name: amt, dtype: float64\n",
            "\n",
            "\n",
            "Grubbs Calculated Value: 148.8832468768014\n",
            "Grubbs Critical Value: 5.345123639735664\n",
            "From grubbs_test we observe that calculated value is greater than critical value, Reject null hypothesis and conclude that there is an outliers\n",
            "\n",
            "None\n"
          ],
          "name": "stdout"
        },
        {
          "output_type": "stream",
          "text": [
            "/usr/local/lib/python3.6/dist-packages/seaborn/_decorators.py:43: FutureWarning: Pass the following variable as a keyword arg: x. From version 0.12, the only valid positional argument will be `data`, and passing other arguments without an explicit keyword will result in an error or misinterpretation.\n",
            "  FutureWarning\n"
          ],
          "name": "stderr"
        },
        {
          "output_type": "display_data",
          "data": {
            "image/png": "[encoded data removed]",
            "text/plain": [
              "<Figure size 720x288 with 1 Axes>"
            ]
          },
          "metadata": {
            "tags": [],
            "needs_background": "light"
          }
        }
      ]
    },
    {
      "cell_type": "code",
      "metadata": {
        "id": "-Vp-1B1exz9z",
        "outputId": "4fad4c22-5a6b-479f-de27-09befd619b83",
        "colab": {
          "base_uri": "https://localhost:8080/",
          "height": 1000
        }
      },
      "source": [
        "#This shows the z score for the fraudulent purchases\n",
        "get_zscore(fraud_true, 'amt')\n",
        "print('\\n This shows the fraudulent purchases.')"
      ],
      "execution_count": null,
      "outputs": [
        {
          "output_type": "stream",
          "text": [
            "The score threshold is: 1\n",
            "The indices of the outliers:\n",
            "(array([   3,    6,    7,    8,    9,   17,   30,   34,   37,   39,   48,\n",
            "         50,   51,   52,   62,   64,   68,   69,   70,   72,   74,   80,\n",
            "         92,   94,   99,  110,  116,  117,  120,  125,  126,  133,  144,\n",
            "        147,  150,  195,  198,  204,  208,  212,  213,  221,  227,  234,\n",
            "        237,  239,  240,  242,  251,  253,  254,  255,  256,  261,  262,\n",
            "        264,  269,  276,  277,  279,  280,  283,  288,  289,  291,  299,\n",
            "        302,  303,  306,  315,  323,  324,  326,  336,  341,  343,  345,\n",
            "        346,  349,  355,  358,  378,  380,  387,  390,  393,  397,  403,\n",
            "        404,  406,  417,  418,  419,  427,  429,  435,  439,  440,  441,\n",
            "        450,  452,  453,  455,  456,  458,  459,  460,  461,  468,  477,\n",
            "        485,  493,  494,  495,  527,  530,  534,  541,  542,  543,  546,\n",
            "        573,  574,  580,  588,  592,  597,  605,  621,  623,  636,  640,\n",
            "        641,  642,  646,  647,  648,  651,  663,  664,  667,  670,  671,\n",
            "        674,  689,  693,  697,  698,  707,  718,  721,  726,  728,  729,\n",
            "        731,  732,  733,  744,  745,  752,  758,  759,  760,  761,  768,\n",
            "        778,  789,  798,  802,  804,  812,  822,  823,  824,  828,  836,\n",
            "        842,  843,  847,  852,  856,  857,  858,  861,  862,  867,  875,\n",
            "        876,  878,  879,  880,  886,  893,  896,  906,  909,  910,  911,\n",
            "        912,  915,  916,  929,  930,  933,  935,  937,  940,  942,  952,\n",
            "        955,  957,  963,  964,  972,  975,  981,  984,  987,  988,  990,\n",
            "        994,  996,  997,  998,  999, 1005, 1008, 1009, 1013, 1014, 1018,\n",
            "       1019, 1022, 1028, 1030, 1032, 1035, 1036, 1038, 1040, 1047, 1048,\n",
            "       1063, 1064, 1065, 1069, 1070, 1073, 1085, 1087, 1088, 1091, 1101,\n",
            "       1103, 1106, 1109, 1111, 1114, 1120, 1123, 1124, 1126, 1147, 1150,\n",
            "       1153, 1163, 1166, 1168, 1172, 1173, 1177, 1183, 1185, 1186, 1187,\n",
            "       1189, 1190, 1192, 1196, 1199, 1203, 1204, 1208, 1209, 1211, 1213,\n",
            "       1216, 1225, 1226, 1230, 1235, 1243, 1248, 1251, 1252, 1258, 1259,\n",
            "       1269, 1270, 1272, 1274, 1284, 1286, 1288, 1289, 1291, 1300, 1302,\n",
            "       1310, 1317, 1318, 1319, 1327, 1328, 1331, 1333, 1335, 1345, 1346,\n",
            "       1348, 1351, 1356, 1364, 1368, 1369, 1376, 1383, 1398, 1418, 1428,\n",
            "       1429, 1445, 1447, 1453, 1465, 1466, 1473, 1478, 1481, 1485, 1488,\n",
            "       1490, 1493, 1502, 1506, 1507, 1508, 1511, 1512, 1515, 1516, 1517,\n",
            "       1531, 1535, 1537, 1539, 1541, 1545, 1549, 1552, 1554, 1557, 1558,\n",
            "       1559, 1563, 1564, 1588, 1589, 1592, 1600, 1606, 1611, 1617, 1631,\n",
            "       1632, 1634, 1643, 1655, 1660, 1661, 1663, 1668, 1674, 1676, 1677,\n",
            "       1680, 1686, 1687, 1692, 1694, 1696, 1698, 1710, 1718, 1719, 1720,\n",
            "       1724, 1745, 1746, 1747, 1748, 1749, 1750, 1761, 1776, 1778, 1779,\n",
            "       1782, 1783, 1786, 1787, 1796, 1797, 1803, 1804, 1805, 1808, 1817,\n",
            "       1819, 1820, 1822, 1823, 1825, 1841, 1844, 1845, 1850, 1852, 1854,\n",
            "       1855, 1865, 1869, 1874, 1875, 1876, 1884, 1895, 1896, 1903, 1905,\n",
            "       1906, 1907, 1909, 1910, 1911, 1912, 1913, 1920, 1925, 1928, 1933,\n",
            "       1935, 1945, 1952, 1957, 1967, 1984, 1985, 1986, 1990, 1992, 1993,\n",
            "       2001, 2005, 2008, 2011, 2024, 2036, 2045, 2058, 2059, 2070, 2074,\n",
            "       2075, 2081, 2082, 2088, 2095, 2097, 2099, 2100, 2105, 2106, 2110,\n",
            "       2116, 2121, 2122, 2137, 2139, 2140, 2142]),)\n",
            "Number of outliers is: 491\n",
            "The score threshold is: 2\n",
            "The indices of the outliers:\n",
            "(array([ 693, 1208, 1903]),)\n",
            "Number of outliers is: 3\n",
            "The score threshold is: 3\n",
            "The indices of the outliers:\n",
            "(array([], dtype=int64),)\n",
            "Number of outliers is: 0\n",
            "The score threshold is: 4\n",
            "The indices of the outliers:\n",
            "(array([], dtype=int64),)\n",
            "Number of outliers is: 0\n",
            "\n",
            " This shows the fraudulent purchases.\n"
          ],
          "name": "stdout"
        }
      ]
    },
    {
      "cell_type": "markdown",
      "metadata": {
        "id": "zScfkFkNugMm"
      },
      "source": [
        "#Scale the features"
      ]
    },
    {
      "cell_type": "code",
      "metadata": {
        "id": "sjBtljNCsW53"
      },
      "source": [
        "from sklearn import preprocessing\n",
        "from scipy.stats import skew, boxcox"
      ],
      "execution_count": null,
      "outputs": []
    },
    {
      "cell_type": "markdown",
      "metadata": {
        "id": "5lSH7CIgmXj1"
      },
      "source": [
        "#Train/Test Split"
      ]
    },
    {
      "cell_type": "markdown",
      "metadata": {
        "id": "mDd7CvUDQhGb"
      },
      "source": [
        "#Undersampling data to train the model\n",
        "\n",
        "###This will create a 10 to 1 ratio of Normal to Fraud transactions for modeling"
      ]
    },
    {
      "cell_type": "code",
      "metadata": {
        "id": "s2rgDuGKosYo",
        "outputId": "51b933c9-6ea0-40d3-e138-45dad5563076",
        "colab": {
          "base_uri": "https://localhost:8080/",
          "height": 87
        }
      },
      "source": [
        "# Class count\n",
        "count_class_0, count_class_1 = fraud.is_fraud.value_counts()\n",
        "\n",
        "# Divide by class\n",
        "df_class_0 = fraud[fraud['is_fraud'] == 0]\n",
        "df_class_1 = fraud[fraud['is_fraud'] == 1]\n",
        "\n",
        "df_class_0_under = df_class_0.sample(count_class_1*5)\n",
        "df_under = pd.concat([df_class_0_under, df_class_1], axis=0)\n",
        "\n",
        "print('Random under-sampling :')\n",
        "print(df_under.is_fraud.value_counts())"
      ],
      "execution_count": null,
      "outputs": [
        {
          "output_type": "stream",
          "text": [
            "Random under-sampling :\n",
            "0    48255\n",
            "1     9651\n",
            "Name: is_fraud, dtype: int64\n"
          ],
          "name": "stdout"
        }
      ]
    },
    {
      "cell_type": "code",
      "metadata": {
        "id": "_DBDtAcJEig9",
        "outputId": "27a741ad-4658-4423-aca0-e5aaf6917f27",
        "colab": {
          "base_uri": "https://localhost:8080/",
          "height": 278
        }
      },
      "source": [
        "df_under.is_fraud.value_counts().plot(kind='bar', title='Count (is_fraud)');"
      ],
      "execution_count": null,
      "outputs": [
        {
          "output_type": "display_data",
          "data": {
            "image/png": "[encoded data removed]",
            "text/plain": [
              "<Figure size 432x288 with 1 Axes>"
            ]
          },
          "metadata": {
            "tags": [],
            "needs_background": "light"
          }
        }
      ]
    },
    {
      "cell_type": "code",
      "metadata": {
        "id": "IgLk_DJjEr4l"
      },
      "source": [
        "#This will delete the first column which is just a row counter\n",
        "#df_under.drop(columns=['Unnamed: 0'],axis=1,inplace=True)\n",
        "#df_under.columns"
      ],
      "execution_count": null,
      "outputs": []
    },
    {
      "cell_type": "code",
      "metadata": {
        "id": "5Z4F987KROPD",
        "outputId": "39e0d19a-84d4-4027-99c8-ae83c953ab91",
        "colab": {
          "base_uri": "https://localhost:8080/",
          "height": 35
        }
      },
      "source": [
        "len_after = len(df_under)\n",
        "len_before = len(fraud)\n",
        "len_difference = len(fraud) - len(df_under)\n",
        "print('**We reduced our data size from {} transactions by {} transactions to {} transactions for our training data.**'.format(len_before, len_difference, len_after))"
      ],
      "execution_count": null,
      "outputs": [
        {
          "output_type": "stream",
          "text": [
            "**We reduced our data size from 1852394 transactions by 1794488 transactions to 57906 transactions for our training data.**\n"
          ],
          "name": "stdout"
        }
      ]
    },
    {
      "cell_type": "markdown",
      "metadata": {
        "id": "yNDHY3Y79Gj0"
      },
      "source": [
        "###**We reduced our data size from 1852394 transactions by 1794488 transactions to 57906 transactions for our training data.**"
      ]
    },
    {
      "cell_type": "markdown",
      "metadata": {
        "id": "wumG3-H8Fe3s"
      },
      "source": [
        "### Feature Engineering\n",
        "\n",
        "####*create customer age feature*"
      ]
    },
    {
      "cell_type": "code",
      "metadata": {
        "id": "hjQ-PH8go02c",
        "outputId": "284a0393-e0a2-4045-823b-8533fc98925c",
        "colab": {
          "base_uri": "https://localhost:8080/",
          "height": 117
        }
      },
      "source": [
        "df_under.head(1)"
      ],
      "execution_count": null,
      "outputs": [
        {
          "output_type": "execute_result",
          "data": {
            "text/html": [
              "<div>\n",
              "<style scoped>\n",
              "    .dataframe tbody tr th:only-of-type {\n",
              "        vertical-align: middle;\n",
              "    }\n",
              "\n",
              "    .dataframe tbody tr th {\n",
              "        vertical-align: top;\n",
              "    }\n",
              "\n",
              "    .dataframe thead th {\n",
              "        text-align: right;\n",
              "    }\n",
              "</style>\n",
              "<table border=\"1\" class=\"dataframe\">\n",
              "  <thead>\n",
              "    <tr style=\"text-align: right;\">\n",
              "      <th></th>\n",
              "      <th>trans_date_trans_time</th>\n",
              "      <th>cc_num</th>\n",
              "      <th>merchant</th>\n",
              "      <th>category</th>\n",
              "      <th>amt</th>\n",
              "      <th>gender</th>\n",
              "      <th>zip</th>\n",
              "      <th>lat</th>\n",
              "      <th>long</th>\n",
              "      <th>city_pop</th>\n",
              "      <th>job</th>\n",
              "      <th>dob</th>\n",
              "      <th>trans_num</th>\n",
              "      <th>unix_time</th>\n",
              "      <th>merch_lat</th>\n",
              "      <th>merch_long</th>\n",
              "      <th>is_fraud</th>\n",
              "      <th>category_food_dining</th>\n",
              "      <th>category_gas_transport</th>\n",
              "      <th>category_grocery_net</th>\n",
              "      <th>category_grocery_pos</th>\n",
              "      <th>category_health_fitness</th>\n",
              "      <th>category_home</th>\n",
              "      <th>category_kids_pets</th>\n",
              "      <th>category_misc_net</th>\n",
              "      <th>category_misc_pos</th>\n",
              "      <th>category_personal_care</th>\n",
              "      <th>category_shopping_net</th>\n",
              "      <th>category_shopping_pos</th>\n",
              "      <th>category_travel</th>\n",
              "      <th>gender_M</th>\n",
              "    </tr>\n",
              "  </thead>\n",
              "  <tbody>\n",
              "    <tr>\n",
              "      <th>650517</th>\n",
              "      <td>2019-10-04 12:21:12</td>\n",
              "      <td>5359543825610251</td>\n",
              "      <td>Kassulke PLC</td>\n",
              "      <td>shopping_net</td>\n",
              "      <td>6.00</td>\n",
              "      <td>M</td>\n",
              "      <td>59714</td>\n",
              "      <td>45.78</td>\n",
              "      <td>-111.14</td>\n",
              "      <td>18182</td>\n",
              "      <td>Engineer, drilling</td>\n",
              "      <td>1975-06-29</td>\n",
              "      <td>859dbaa0260e1fbf3165654fb0f9437e</td>\n",
              "      <td>1349353272</td>\n",
              "      <td>46.21</td>\n",
              "      <td>-110.23</td>\n",
              "      <td>0</td>\n",
              "      <td>0</td>\n",
              "      <td>0</td>\n",
              "      <td>0</td>\n",
              "      <td>0</td>\n",
              "      <td>0</td>\n",
              "      <td>0</td>\n",
              "      <td>0</td>\n",
              "      <td>0</td>\n",
              "      <td>0</td>\n",
              "      <td>0</td>\n",
              "      <td>1</td>\n",
              "      <td>0</td>\n",
              "      <td>0</td>\n",
              "      <td>1</td>\n",
              "    </tr>\n",
              "  </tbody>\n",
              "</table>\n",
              "</div>"
            ],
            "text/plain": [
              "       trans_date_trans_time            cc_num  ... category_travel gender_M\n",
              "650517   2019-10-04 12:21:12  5359543825610251  ...               0        1\n",
              "\n",
              "[1 rows x 31 columns]"
            ]
          },
          "metadata": {
            "tags": []
          },
          "execution_count": 41
        }
      ]
    },
    {
      "cell_type": "code",
      "metadata": {
        "id": "_g4W3-_BFZ52"
      },
      "source": [
        "df_under['trans_date_trans_time'] = pd.to_datetime(df_under['trans_date_trans_time'])\n",
        "df_under['unix_time'] = pd.to_datetime(df_under['unix_time'])\n",
        "df_under['dob'] = pd.to_datetime(df_under['dob'])"
      ],
      "execution_count": null,
      "outputs": []
    },
    {
      "cell_type": "code",
      "metadata": {
        "id": "IVw_WYQaG7L1"
      },
      "source": [
        "df_under['cust_age'] = df_under['trans_date_trans_time'].dt.year - df_under['dob'].dt.year\n"
      ],
      "execution_count": null,
      "outputs": []
    },
    {
      "cell_type": "code",
      "metadata": {
        "id": "OzUnb-9irOAa",
        "outputId": "b60b0218-f2c0-489f-b64b-a267b524ee73",
        "colab": {
          "base_uri": "https://localhost:8080/",
          "height": 454
        }
      },
      "source": [
        "#This will show us all of the fraudulent transactions and the number of times they have occured by age group.\n",
        "\n",
        "plt.figure(figsize=[40,15])\n",
        "ax = df_under.groupby(['cust_age', 'is_fraud']).size().plot(kind='bar')\n",
        "ax.set_title(\"# of transaction which are the actual based on age\")\n",
        "ax.set_xlabel(\"(Age, is_fraud)\")\n",
        "ax.set_ylabel(\"Count of transaction\")\n",
        "for p in ax.patches:\n",
        "    ax.annotate(str(format(int(p.get_height()), ',d')), (p.get_x(), p.get_height()*1.01))"
      ],
      "execution_count": null,
      "outputs": [
        {
          "output_type": "display_data",
          "data": {
            "image/png": "[encoded data removed]",
            "text/plain": [
              "<Figure size 2880x1080 with 1 Axes>"
            ]
          },
          "metadata": {
            "tags": [],
            "needs_background": "light"
          }
        }
      ]
    },
    {
      "cell_type": "markdown",
      "metadata": {
        "id": "EgomTBOp73n9"
      },
      "source": [
        "<h2>We can see two large groups that have high amounts of fraudulent transactions on their account are ages (28-35) and (41-48).</h2>"
      ]
    },
    {
      "cell_type": "code",
      "metadata": {
        "id": "I7bFMg1JYMP4"
      },
      "source": [
        "df_under.drop(['cc_num', 'merchant', 'zip',\n",
        "              'dob', 'trans_num',], axis=1, inplace=True)\n",
        "df_under.reset_index(drop=True, inplace=True)"
      ],
      "execution_count": null,
      "outputs": []
    },
    {
      "cell_type": "code",
      "metadata": {
        "id": "pIjiFWejYM43"
      },
      "source": [
        "df_under.to_csv('unskewed_data.csv')"
      ],
      "execution_count": null,
      "outputs": []
    },
    {
      "cell_type": "code",
      "metadata": {
        "id": "fPQgZ4n1aj7d",
        "outputId": "5e30180c-6505-4533-a917-3eb36f86abcd",
        "colab": {
          "base_uri": "https://localhost:8080/",
          "height": 175
        }
      },
      "source": [
        "df_under.columns"
      ],
      "execution_count": null,
      "outputs": [
        {
          "output_type": "execute_result",
          "data": {
            "text/plain": [
              "Index(['trans_date_trans_time', 'category', 'amt', 'gender', 'lat', 'long',\n",
              "       'city_pop', 'job', 'unix_time', 'merch_lat', 'merch_long', 'is_fraud',\n",
              "       'category_food_dining', 'category_gas_transport',\n",
              "       'category_grocery_net', 'category_grocery_pos',\n",
              "       'category_health_fitness', 'category_home', 'category_kids_pets',\n",
              "       'category_misc_net', 'category_misc_pos', 'category_personal_care',\n",
              "       'category_shopping_net', 'category_shopping_pos', 'category_travel',\n",
              "       'gender_M', 'cust_age'],\n",
              "      dtype='object')"
            ]
          },
          "metadata": {
            "tags": []
          },
          "execution_count": 47
        }
      ]
    },
    {
      "cell_type": "markdown",
      "metadata": {
        "id": "rtTPDE7ueid3"
      },
      "source": [
        "### Feature & Target Split\n"
      ]
    },
    {
      "cell_type": "code",
      "metadata": {
        "id": "Y-cOA5eVeMjb"
      },
      "source": [
        "feat_list = ['category', 'amt', 'gender', 'city_pop', 'cust_age', 'job']\n",
        "feat_data = df_under[feat_list]\n",
        "targ_list = ['is_fraud']\n",
        "targ_data = df_under[targ_list]\n"
      ],
      "execution_count": null,
      "outputs": []
    },
    {
      "cell_type": "markdown",
      "metadata": {
        "id": "FJdGCodQOXOS"
      },
      "source": [
        "### Feature Scaling"
      ]
    },
    {
      "cell_type": "code",
      "metadata": {
        "id": "LlZ51u91er-0"
      },
      "source": [
        "from sklearn.preprocessing import StandardScaler, OneHotEncoder\n",
        "from sklearn.compose import ColumnTransformer, make_column_transformer\n",
        "#create the specs for the column transformer\n",
        "from sklearn.preprocessing import MinMaxScaler\n",
        "#categories=\"auto\" and drop=\"first\" tell the encoder to create k-1 columns, rather than k columns\n",
        "# and that the first category will be the implicit category\n",
        "preprocess = make_column_transformer(\n",
        "    (MinMaxScaler(), ['amt', 'city_pop', 'cust_age']),\n",
        "    (OneHotEncoder(categories=\"auto\",drop=\"first\"),  ['category', 'gender', 'job'])\n",
        ")\n",
        "\n",
        "#fit_transform is the function that fits the transformations to the data and then does the transformation\n",
        "X = preprocess.fit_transform(feat_data)\n",
        "\n",
        "# scale target dataset\n",
        "y = np.array(targ_data)"
      ],
      "execution_count": null,
      "outputs": []
    },
    {
      "cell_type": "code",
      "metadata": {
        "id": "LGnFrxKPV04I",
        "outputId": "86337923-0574-46f8-be3e-03c697e8efbf",
        "colab": {
          "base_uri": "https://localhost:8080/",
          "height": 35
        }
      },
      "source": [
        "X.shape"
      ],
      "execution_count": null,
      "outputs": [
        {
          "output_type": "execute_result",
          "data": {
            "text/plain": [
              "(57906, 513)"
            ]
          },
          "metadata": {
            "tags": []
          },
          "execution_count": 50
        }
      ]
    },
    {
      "cell_type": "markdown",
      "metadata": {
        "id": "DnZDET0hezbL"
      },
      "source": [
        "### Train Test Split"
      ]
    },
    {
      "cell_type": "code",
      "metadata": {
        "id": "AohfNytWetZI"
      },
      "source": [
        "# train test split\n",
        "from sklearn.model_selection import train_test_split\n",
        "\n",
        "X_train, X_test, y_train, y_test = train_test_split(X, y, test_size=0.33, shuffle=True, random_state=32)"
      ],
      "execution_count": null,
      "outputs": []
    },
    {
      "cell_type": "markdown",
      "metadata": {
        "id": "SPy8dH_mOmwJ"
      },
      "source": [
        "### Parameter Tuning Function"
      ]
    },
    {
      "cell_type": "code",
      "metadata": {
        "id": "BtzWMo2RfOJw"
      },
      "source": [
        "# a function to define the gridsearch inorder to get the best fit model with optimized parameters\n",
        "# function return the best fit optimized model\n",
        "# set K Fold as 20 for cross validation\n",
        "# https://scikit-learn.org/stable/modules/generated/sklearn.model_selection.GridSearchCV.html\n",
        "from sklearn.model_selection import GridSearchCV\n",
        "\n",
        "def gridsearchfn(X_train_data, X_test_data, y_train_data, y_test_data, \n",
        "                       model, param_grid, cv=10, scoring_fit='accuracy'):\n",
        "    gs = GridSearchCV(\n",
        "        estimator=model,\n",
        "        param_grid=param_grid, \n",
        "        cv=cv, \n",
        "        n_jobs=-1, \n",
        "        scoring=scoring_fit,\n",
        "        verbose=2\n",
        "    )\n",
        "    fitted_model = gs.fit(X_train_data, y_train_data)\n",
        "    \n",
        "    return fitted_model"
      ],
      "execution_count": null,
      "outputs": []
    },
    {
      "cell_type": "markdown",
      "metadata": {
        "id": "qH5igQL5fdGX"
      },
      "source": [
        "### Classification"
      ]
    },
    {
      "cell_type": "code",
      "metadata": {
        "id": "M_b5gMLrfaNV"
      },
      "source": [
        "acc_normal = []\n",
        "acc_bagged = []"
      ],
      "execution_count": null,
      "outputs": []
    },
    {
      "cell_type": "markdown",
      "metadata": {
        "id": "nOfxYaalfiKT"
      },
      "source": [
        "#### Support Vector Machine (Normal with Parameter Tuning using GridSearch CV)\n"
      ]
    },
    {
      "cell_type": "code",
      "metadata": {
        "id": "Svw7G4rXfllE",
        "outputId": "7798f094-5bc0-4c74-cccc-99fd618d622f",
        "colab": {
          "base_uri": "https://localhost:8080/",
          "height": 52
        }
      },
      "source": [
        "from sklearn.svm import SVC\n",
        "# define Support Vector Machine classifier with random state as 0 as model. \n",
        "model = SVC(random_state=32)\n",
        "\n",
        "# parameter grid is defined inorder to search through and get the best fit parameters\n",
        "param_grid = {\n",
        "    'kernel' : ['linear', 'poly', 'rbf', 'sigmoid']\n",
        "}\n",
        "\n",
        "# invoke the gridsearch function to get the best fit model and parameters\n",
        "model = gridsearchfn(X_train, X_test, y_train, y_test, model, param_grid)\n",
        "\n",
        "print('Best Parameters : ', model.best_params_)"
      ],
      "execution_count": null,
      "outputs": [
        {
          "output_type": "stream",
          "text": [
            "Fitting 10 folds for each of 4 candidates, totalling 40 fits\n"
          ],
          "name": "stdout"
        },
        {
          "output_type": "stream",
          "text": [
            "[Parallel(n_jobs=-1)]: Using backend LokyBackend with 2 concurrent workers.\n"
          ],
          "name": "stderr"
        }
      ]
    },
    {
      "cell_type": "code",
      "metadata": {
        "id": "hwe_mZdtgC9e"
      },
      "source": [
        "# Best Parameters :  {'kernel': 'rbf'}\n",
        "svc_clf = SVC(kernel = 'rbf', random_state=32, probability=True)\n",
        "svc_clf.fit(X_train, y_train)"
      ],
      "execution_count": null,
      "outputs": []
    },
    {
      "cell_type": "code",
      "metadata": {
        "id": "8-Gzg0vzgFDV"
      },
      "source": [
        "svc_clf.score(X_train, y_train)"
      ],
      "execution_count": null,
      "outputs": []
    },
    {
      "cell_type": "code",
      "metadata": {
        "id": "V4peUvoNmLMB"
      },
      "source": [
        "acc_normal.append(svc_clf.score(X_test, y_test))\n",
        "svc_clf.score(X_test, y_test)"
      ],
      "execution_count": null,
      "outputs": []
    },
    {
      "cell_type": "code",
      "metadata": {
        "id": "EKd4hYgkmL9w"
      },
      "source": [
        "#suppress exponential notation, define an appropriate float formatter\n",
        "\n",
        "# plot the confusion matrix\n",
        "plt.rcParams[\"figure.figsize\"] = (5,5)\n",
        "plot_confusion_matrix(svc_clf, X_test, y_test, values_format='d')\n",
        "\n"
      ],
      "execution_count": null,
      "outputs": []
    },
    {
      "cell_type": "markdown",
      "metadata": {
        "id": "4ORKhigMmW-Z"
      },
      "source": [
        "#### Support Vector Machine (Bagged with Parameter Tuned Configuration)"
      ]
    },
    {
      "cell_type": "code",
      "metadata": {
        "id": "-93AJ_iymQk_"
      },
      "source": [
        "from sklearn.ensemble import BaggingClassifier\n",
        "\n",
        "svc_bagged = BaggingClassifier(base_estimator=SVC(kernel='rbf'),\n",
        "                        n_estimators=10, random_state=32)\n",
        "svc_bagged_clf = svc_bagged.fit(X_train, y_train.ravel())"
      ],
      "execution_count": null,
      "outputs": []
    },
    {
      "cell_type": "code",
      "metadata": {
        "id": "V_CRTZLa6nh3"
      },
      "source": [
        "svc_bagged_clf.score(X_train, y_train)"
      ],
      "execution_count": null,
      "outputs": []
    },
    {
      "cell_type": "code",
      "metadata": {
        "id": "o4F1n6_E6pdy"
      },
      "source": [
        "acc_bagged.append(svc_bagged_clf.score(X_test, y_test))\n",
        "svc_bagged_clf.score(X_test, y_test)"
      ],
      "execution_count": null,
      "outputs": []
    },
    {
      "cell_type": "code",
      "metadata": {
        "id": "cRdPmDZdCHXA"
      },
      "source": [
        "cross_val_score(svc_bagged_clf, X_test, y_test, cv=10)"
      ],
      "execution_count": null,
      "outputs": []
    },
    {
      "cell_type": "code",
      "metadata": {
        "id": "M_zY-SNJ6qG3"
      },
      "source": [
        "pd.reset_option('display.float_format')\n",
        "plt.rcParams[\"figure.figsize\"] = (5,5)\n",
        "plot_confusion_matrix(svc_bagged_clf, X_test, y_test, values_format='d')"
      ],
      "execution_count": null,
      "outputs": []
    },
    {
      "cell_type": "markdown",
      "metadata": {
        "id": "MjhOypUb6_Zk"
      },
      "source": [
        "#### Random Forest (Normal with Parameter Tuning using GridSearch CV)"
      ]
    },
    {
      "cell_type": "code",
      "metadata": {
        "id": "gqhNGYgk65-Z"
      },
      "source": [
        "# define xgboost classifier with random state as 0 as model. \n",
        "model = RandomForestClassifier(random_state=32)\n",
        "\n",
        "# parameter grid is defined inorder to search through and get the best fit parameters\n",
        "param_grid = {\n",
        "    'n_estimators': [20,40,60],\n",
        "    'criterion' : ['gini', 'entropy']\n",
        "}\n",
        "\n",
        "# invoke the gridsearch function to get the best fit model and parameters\n",
        "model = gridsearchfn(X_train, X_test, y_train, y_test, model, param_grid)\n",
        "\n",
        "print('Best Parameters : ', model.best_params_)"
      ],
      "execution_count": null,
      "outputs": []
    },
    {
      "cell_type": "code",
      "metadata": {
        "id": "YEyElIGO7IKM"
      },
      "source": [
        "# Best Parameters :  {'criterion': 'entropy', 'n_estimators': 60}\n",
        "rndf_clf = RandomForestClassifier(criterion = 'gini', n_estimators= 60, random_state=32)\n",
        "rndf_clf.fit(X_train, y_train)"
      ],
      "execution_count": null,
      "outputs": []
    },
    {
      "cell_type": "code",
      "metadata": {
        "id": "wielpl_o7In1"
      },
      "source": [
        "rndf_clf.score(X_train, y_train)"
      ],
      "execution_count": null,
      "outputs": []
    },
    {
      "cell_type": "code",
      "metadata": {
        "id": "QDwkBkGj7KQx"
      },
      "source": [
        "acc_normal.append(rndf_clf.score(X_test, y_test))\n",
        "rndf_clf.score(X_test, y_test)"
      ],
      "execution_count": null,
      "outputs": []
    },
    {
      "cell_type": "code",
      "metadata": {
        "id": "8jK_zdi87Okm"
      },
      "source": [
        "plt.rcParams[\"figure.figsize\"] = (5,5)\n",
        "plot_confusion_matrix(rndf_clf, X_test, y_test, values_format='d')"
      ],
      "execution_count": null,
      "outputs": []
    },
    {
      "cell_type": "markdown",
      "metadata": {
        "id": "zXH1o3757uqI"
      },
      "source": [
        "#### Random Forest (Bagged with Parameter Tuned Configuration)"
      ]
    },
    {
      "cell_type": "code",
      "metadata": {
        "id": "coCkeoH37rvb"
      },
      "source": [
        "rndf_bagged = BaggingClassifier(base_estimator=RandomForestClassifier(criterion = 'entropy', n_estimators= 60, random_state=32),\n",
        "                        n_estimators=10, random_state=32)\n",
        "rndf_bagged_clf = rndf_bagged.fit(X_train, y_train.ravel())"
      ],
      "execution_count": null,
      "outputs": []
    },
    {
      "cell_type": "code",
      "metadata": {
        "id": "EOJjVvb972tx"
      },
      "source": [
        "rndf_bagged_clf.score(X_train, y_train)"
      ],
      "execution_count": null,
      "outputs": []
    },
    {
      "cell_type": "code",
      "metadata": {
        "id": "eNkRx3RZ72nN"
      },
      "source": [
        "acc_bagged.append(rndf_bagged_clf.score(X_test, y_test))\n",
        "rndf_bagged_clf.score(X_test, y_test)"
      ],
      "execution_count": null,
      "outputs": []
    },
    {
      "cell_type": "code",
      "metadata": {
        "id": "Yl0-WH5x746m"
      },
      "source": [
        "pd.reset_option('display.float_format')\n",
        "plt.rcParams[\"figure.figsize\"] = (5,5)\n",
        "plot_confusion_matrix(rndf_bagged_clf, X_test, y_test, values_format='d')"
      ],
      "execution_count": null,
      "outputs": []
    },
    {
      "cell_type": "code",
      "metadata": {
        "id": "g7wOxa_ZPwlz"
      },
      "source": [
        "cross_val_score(rndf_bagged_clf, X_test, y_test, cv=10)"
      ],
      "execution_count": null,
      "outputs": []
    },
    {
      "cell_type": "markdown",
      "metadata": {
        "id": "qQMSgH6HQnOB"
      },
      "source": [
        "#### K-Nearest Neighbours (Normal with Parameter Tuning using GridSearch CV)"
      ]
    },
    {
      "cell_type": "code",
      "metadata": {
        "id": "jb-IfGUd79B3"
      },
      "source": [
        "# define xgboost classifier with random state as 0 as model. \n",
        "model = KNeighborsClassifier()\n",
        "\n",
        "# parameter grid is defined inorder to search through and get the best fit parameters\n",
        "param_grid = {\n",
        "    'n_neighbors': [5,10,15],\n",
        "    'weights' : ['uniform', 'distance']\n",
        "    \n",
        "}\n",
        "\n",
        "# invoke the gridsearch function to get the best fit model and parameters\n",
        "model = gridsearchfn(X_train, X_test, y_train, y_test, model, param_grid)\n",
        "\n",
        "print('Best Parameters : ', model.best_params_)"
      ],
      "execution_count": null,
      "outputs": []
    },
    {
      "cell_type": "code",
      "metadata": {
        "id": "ZynnMD8R8EIt"
      },
      "source": [
        "# Best Parameters :  {'n_neighbors': 15, 'weights': 'distance'}\n",
        "knn_clf = KNeighborsClassifier(n_neighbors = 15, weights = 'distance')\n",
        "knn_clf.fit(X_train, y_train)"
      ],
      "execution_count": null,
      "outputs": []
    },
    {
      "cell_type": "code",
      "metadata": {
        "id": "-GInS-Kg8GLs"
      },
      "source": [
        "knn_clf.score(X_train, y_train)"
      ],
      "execution_count": null,
      "outputs": []
    },
    {
      "cell_type": "code",
      "metadata": {
        "id": "v4NSOb8J8IZn"
      },
      "source": [
        "acc_normal.append(knn_clf.score(X_test, y_test))\n",
        "knn_clf.score(X_test, y_test)"
      ],
      "execution_count": null,
      "outputs": []
    },
    {
      "cell_type": "code",
      "metadata": {
        "id": "yW6RzvAX8J9c"
      },
      "source": [
        "plt.rcParams[\"figure.figsize\"] = (5,5)\n",
        "plot_confusion_matrix(knn_clf, X_test, y_test, values_format='d')"
      ],
      "execution_count": null,
      "outputs": []
    },
    {
      "cell_type": "markdown",
      "metadata": {
        "id": "1edOqJBC8PpW"
      },
      "source": [
        "#### K-Nearest Neighbours (Bagged with Parameter Tuned Configuration)"
      ]
    },
    {
      "cell_type": "code",
      "metadata": {
        "id": "INi6NmLp8NHB"
      },
      "source": [
        "knn_bagged = BaggingClassifier(base_estimator=KNeighborsClassifier(n_neighbors = 15, weights = 'distance'),\n",
        "                        n_estimators=10, random_state=32)\n",
        "knn_bagged_clf = knn_bagged.fit(X_train, y_train.ravel())"
      ],
      "execution_count": null,
      "outputs": []
    },
    {
      "cell_type": "code",
      "metadata": {
        "id": "UT-8PB0d8QfN"
      },
      "source": [
        "knn_bagged_clf.score(X_train, y_train)"
      ],
      "execution_count": null,
      "outputs": []
    },
    {
      "cell_type": "code",
      "metadata": {
        "id": "u3B8tuAN8SiT"
      },
      "source": [
        "acc_bagged.append(knn_bagged_clf.score(X_test, y_test))\n",
        "knn_bagged_clf.score(X_test, y_test)"
      ],
      "execution_count": null,
      "outputs": []
    },
    {
      "cell_type": "code",
      "metadata": {
        "id": "DCpaiAedgrUX"
      },
      "source": [
        "plt.rcParams[\"figure.figsize\"] = (5,5)\n",
        "plot_confusion_matrix(knn_bagged_clf, X_test, y_test, values_format='d')"
      ],
      "execution_count": null,
      "outputs": []
    },
    {
      "cell_type": "code",
      "metadata": {
        "id": "SnH05-gNQzlp"
      },
      "source": [
        "cross_val_score(knn_bagged_clf, X_test, y_test, cv=10)"
      ],
      "execution_count": null,
      "outputs": []
    },
    {
      "cell_type": "markdown",
      "metadata": {
        "id": "6nZWnWWWhOLx"
      },
      "source": [
        "#### Ridge (Normal with Parameter Tuning using GridSearch CV)"
      ]
    },
    {
      "cell_type": "code",
      "metadata": {
        "id": "Zjsf_FyThO_B"
      },
      "source": [
        "from sklearn.linear_model import RidgeClassifier\n",
        "\n",
        "model = RidgeClassifier(random_state=32)\n",
        "\n",
        "# parameter grid is defined inorder to search through and get the best fit parameters\n",
        "param_grid = {\n",
        "    'alpha': [0.5,1.5,2, 2.5]\n",
        "}\n",
        "\n",
        "# invoke the gridsearch function to get the best fit model and parameters\n",
        "model = gridsearchfn(X_train, X_test, y_train, y_test, model, param_grid)\n",
        "\n",
        "print('Best Parameters : ', model.best_params_)"
      ],
      "execution_count": null,
      "outputs": []
    },
    {
      "cell_type": "code",
      "metadata": {
        "id": "uQCE5eDIhR2C"
      },
      "source": [
        "#Best Parameters :  {'alpha': 0.5}\n",
        "rid_clf = RidgeClassifier(alpha = 0.5, random_state=32)\n",
        "rid_clf.fit(X_train, y_train) "
      ],
      "execution_count": null,
      "outputs": []
    },
    {
      "cell_type": "code",
      "metadata": {
        "id": "3NouPKJzhXsa"
      },
      "source": [
        "rid_clf.score(X_train, y_train)"
      ],
      "execution_count": null,
      "outputs": []
    },
    {
      "cell_type": "code",
      "metadata": {
        "id": "lu6rwGhLhYQ4"
      },
      "source": [
        "acc_normal.append(rid_clf.score(X_test, y_test))\n",
        "rid_clf.score(X_test, y_test)"
      ],
      "execution_count": null,
      "outputs": []
    },
    {
      "cell_type": "code",
      "metadata": {
        "id": "GOcc_WxYhaVN"
      },
      "source": [
        "plt.rcParams[\"figure.figsize\"] = (5,5)\n",
        "plot_confusion_matrix(rid_clf, X_test, y_test, values_format='d')"
      ],
      "execution_count": null,
      "outputs": []
    },
    {
      "cell_type": "markdown",
      "metadata": {
        "id": "jhzcdVZ_hi5S"
      },
      "source": [
        "#### Ridge (Bagged with Parameter Tuned Configuration)\n",
        "\n"
      ]
    },
    {
      "cell_type": "code",
      "metadata": {
        "id": "TPag4DKrhcrt"
      },
      "source": [
        "rid_bagged = BaggingClassifier(base_estimator=RidgeClassifier(alpha = 0.5, random_state=32),\n",
        "                        n_estimators=10, random_state=32)\n",
        "rid_bagged_clf = rid_bagged.fit(X_train, y_train.ravel())"
      ],
      "execution_count": null,
      "outputs": []
    },
    {
      "cell_type": "code",
      "metadata": {
        "id": "eoD-jh7bhrlP"
      },
      "source": [
        "rid_bagged_clf.score(X_train, y_train)"
      ],
      "execution_count": null,
      "outputs": []
    },
    {
      "cell_type": "code",
      "metadata": {
        "id": "exCmOcmehsQP"
      },
      "source": [
        "acc_bagged.append(rid_bagged_clf.score(X_test, y_test))\n",
        "rid_bagged_clf.score(X_test, y_test)"
      ],
      "execution_count": null,
      "outputs": []
    },
    {
      "cell_type": "code",
      "metadata": {
        "id": "RZBAbaURhuHn"
      },
      "source": [
        "plt.rcParams[\"figure.figsize\"] = (5,5)\n",
        "plot_confusion_matrix(rid_bagged_clf, X_test, y_test, values_format='d')"
      ],
      "execution_count": null,
      "outputs": []
    },
    {
      "cell_type": "code",
      "metadata": {
        "id": "ONkUSqF2hx-L"
      },
      "source": [
        "cross_val_score(rndf_bagged_clf, X_test, y_test, cv=10)"
      ],
      "execution_count": null,
      "outputs": []
    },
    {
      "cell_type": "markdown",
      "metadata": {
        "id": "tPNmu8c3h2rX"
      },
      "source": [
        "#### Extra Tree (Normal with Parameter Tuning using GridSearch CV)"
      ]
    },
    {
      "cell_type": "code",
      "metadata": {
        "id": "OuRsdiF-h33a"
      },
      "source": [
        "from sklearn.ensemble import ExtraTreesClassifier\n",
        "\n",
        "model = ExtraTreesClassifier(random_state=32)\n",
        "\n",
        "# parameter grid is defined inorder to search through and get the best fit parameters\n",
        "param_grid = {\n",
        "    'n_estimators': [100,150,200, 250]\n",
        "}\n",
        "\n",
        "# invoke the gridsearch function to get the best fit model and parameters\n",
        "model = gridsearchfn(X_train, X_test, y_train, y_test, model, param_grid)\n",
        "\n",
        "print('Best Parameters : ', model.best_params_)"
      ],
      "execution_count": null,
      "outputs": []
    },
    {
      "cell_type": "code",
      "metadata": {
        "id": "S1OaVKJqh6W4"
      },
      "source": [
        "# Best Parameters :  {'n_estimators': 250}\n",
        "extr_clf = ExtraTreesClassifier(n_estimators = 250, random_state=32)\n",
        "extr_clf.fit(X_train, y_train)"
      ],
      "execution_count": null,
      "outputs": []
    },
    {
      "cell_type": "code",
      "metadata": {
        "id": "Ddhii0-Jh8cV"
      },
      "source": [
        "extr_clf.score(X_train, y_train)"
      ],
      "execution_count": null,
      "outputs": []
    },
    {
      "cell_type": "code",
      "metadata": {
        "id": "q3o6aQ94iKEE"
      },
      "source": [
        "acc_normal.append(extr_clf.score(X_test, y_test))\n",
        "extr_clf.score(X_test, y_test)"
      ],
      "execution_count": null,
      "outputs": []
    },
    {
      "cell_type": "code",
      "metadata": {
        "id": "-aG7G_IOiKjH"
      },
      "source": [
        "plt.rcParams[\"figure.figsize\"] = (5,5)\n",
        "plot_confusion_matrix(extr_clf, X_test, y_test, values_format='d')"
      ],
      "execution_count": null,
      "outputs": []
    },
    {
      "cell_type": "markdown",
      "metadata": {
        "id": "4mXt-wwpiOk-"
      },
      "source": [
        "#### Extra Tree (Bagged with Parameter Tuned Configuration)"
      ]
    },
    {
      "cell_type": "code",
      "metadata": {
        "id": "hj3SPSYdiMTq"
      },
      "source": [
        "extr_bagged = BaggingClassifier(base_estimator=ExtraTreesClassifier(n_estimators = 250, random_state=32),\n",
        "                        n_estimators=10, random_state=32)\n",
        "extr_bagged_clf = extr_bagged.fit(X_train, y_train.ravel())"
      ],
      "execution_count": null,
      "outputs": []
    },
    {
      "cell_type": "code",
      "metadata": {
        "id": "TxRipS-JiRyr"
      },
      "source": [
        "extr_bagged_clf.score(X_train, y_train)"
      ],
      "execution_count": null,
      "outputs": []
    },
    {
      "cell_type": "code",
      "metadata": {
        "id": "yyx5rbD-iVH4"
      },
      "source": [
        "acc_bagged.append(extr_bagged_clf.score(X_test, y_test))\n",
        "extr_bagged_clf.score(X_test, y_test)"
      ],
      "execution_count": null,
      "outputs": []
    },
    {
      "cell_type": "code",
      "metadata": {
        "id": "UsbStCBHiWy0"
      },
      "source": [
        "plt.rcParams[\"figure.figsize\"] = (5,5)\n",
        "plot_confusion_matrix(extr_bagged_clf, X_test, y_test, values_format='d')"
      ],
      "execution_count": null,
      "outputs": []
    },
    {
      "cell_type": "code",
      "metadata": {
        "id": "kycvdrCLRMCM"
      },
      "source": [
        "cross_val_score(extr_bagged_clf, X_test, y_test, cv=10)"
      ],
      "execution_count": null,
      "outputs": []
    },
    {
      "cell_type": "markdown",
      "metadata": {
        "id": "ole4RqzsibHc"
      },
      "source": [
        "### Classifier Accuracy"
      ]
    },
    {
      "cell_type": "code",
      "metadata": {
        "id": "skhEDd3MiYz1"
      },
      "source": [
        "import matplotlib.pyplot as plt\n",
        "colors = plt.rcParams['axes.prop_cycle'].by_key()['color']\n",
        "plt.rcParams['figure.figsize'] = (12, 10)\n",
        "\n",
        "clf_acc_df = pd.DataFrame([acc_normal,acc_bagged]).T\n",
        "\n",
        "clf_acc_df.index = ['SVC', 'Random Forest', 'KNN', 'Ridge', 'Extra Tree']\n",
        "clf_acc_df.columns = ['Normal', 'Bagged']\n",
        "clf_acc_df = 100 * clf_acc_df\n",
        "\n",
        "clf_acc_df.plot.bar()\n",
        "plt.title('Accuarcy of Classifiers')"
      ],
      "execution_count": null,
      "outputs": []
    },
    {
      "cell_type": "markdown",
      "metadata": {
        "id": "jhs6vPIWRWnQ"
      },
      "source": [
        "### ROC Curve - Normal Models"
      ]
    },
    {
      "cell_type": "code",
      "metadata": {
        "id": "komZ8PGBkWuA"
      },
      "source": [
        "from sklearn.metrics import roc_auc_score, roc_curve\n",
        "\n",
        "#Plot the SVC normal model Roc curve\n",
        "y_pred_proba = svc_clf.predict_proba(X_test)[::,1]\n",
        "fpr, tpr, _ = roc_curve(y_test,  y_pred_proba)\n",
        "auc = roc_auc_score(y_test, y_pred_proba)\n",
        "plt.plot(fpr,tpr,label=\"SVC Normal, auc=\"+str(auc))\n",
        "\n",
        "#Plot the Random Forest normal model Roc curve\n",
        "y_pred_proba =rndf_clf.predict_proba(X_test)[::,1]\n",
        "fpr, tpr, _ = roc_curve(y_test,  y_pred_proba)\n",
        "auc = roc_auc_score(y_test, y_pred_proba)\n",
        "plt.plot(fpr,tpr,label=\"Random Forest Normal, auc=\"+str(auc))\n",
        "\n",
        "#Plot the KNN normal model Roc curve\n",
        "y_pred_proba =knn_clf.predict_proba(X_test)[::,1]\n",
        "fpr, tpr, _ = roc_curve(y_test,  y_pred_proba)\n",
        "auc = roc_auc_score(y_test, y_pred_proba)\n",
        "plt.plot(fpr,tpr,label=\"KNN Normal, auc=\"+str(auc))\n",
        "\n",
        "# ridge classifier cannot be plotted since it doesn't have probability function\n",
        "#y_pred_proba =rid_clf.predict_proba(X_test)[::,1]\n",
        "#fpr, tpr, _ = roc_curve(y_test,  y_pred_proba)\n",
        "#auc = roc_auc_score(y_test, y_pred_proba)\n",
        "#plt.plot(fpr,tpr,label=\"Ridge Normal, auc=\"+str(auc))\n",
        "\n",
        "#Plot the Extra Tree normal model Roc curve\n",
        "y_pred_proba = extr_clf.predict_proba(X_test)[::,1]\n",
        "fpr, tpr, _ = roc_curve(y_test,  y_pred_proba)\n",
        "auc = roc_auc_score(y_test, y_pred_proba)\n",
        "plt.plot(fpr,tpr,label=\"Extra Tree Normal, auc=\"+str(auc))\n",
        "\n",
        "#Plot the legend and print\n",
        "plt.legend(loc=4)\n",
        "plt.show()"
      ],
      "execution_count": null,
      "outputs": []
    },
    {
      "cell_type": "markdown",
      "metadata": {
        "id": "faN39aAYkged"
      },
      "source": [
        "### ROC Curve - Bagged Models"
      ]
    },
    {
      "cell_type": "code",
      "metadata": {
        "id": "d_w-ogy5khiG"
      },
      "source": [
        "#Plot the SVC bagged model Roc curve\n",
        "y_pred_proba = svc_bagged_clf.predict_proba(X_test)[::,1]\n",
        "fpr, tpr, _ = roc_curve(y_test,  y_pred_proba)\n",
        "auc = roc_auc_score(y_test, y_pred_proba)\n",
        "plt.plot(fpr,tpr,label=\"SVC Bagged, auc=\"+str(auc))\n",
        "\n",
        "#Plot the Random Forest bagged model Roc curve\n",
        "y_pred_proba =rndf_bagged_clf.predict_proba(X_test)[::,1]\n",
        "fpr, tpr, _ = roc_curve(y_test,  y_pred_proba)\n",
        "auc = roc_auc_score(y_test, y_pred_proba)\n",
        "plt.plot(fpr,tpr,label=\"Random Forest Bagged, auc=\"+str(auc))\n",
        "\n",
        "#Plot the KNN bagged model Roc curve\n",
        "y_pred_proba =knn_bagged_clf.predict_proba(X_test)[::,1]\n",
        "fpr, tpr, _ = roc_curve(y_test,  y_pred_proba)\n",
        "auc = roc_auc_score(y_test, y_pred_proba)\n",
        "plt.plot(fpr,tpr,label=\"KNN Bagged, auc=\"+str(auc))\n",
        "\n",
        "#Plot the Ridge regression bagged model Roc curve\n",
        "y_pred_proba =rid_bagged_clf.predict_proba(X_test)[::,1]\n",
        "fpr, tpr, _ = roc_curve(y_test,  y_pred_proba)\n",
        "auc = roc_auc_score(y_test, y_pred_proba)\n",
        "plt.plot(fpr,tpr,label=\"Ridge Bagged, auc=\"+str(auc))\n",
        "\n",
        "#Plot the Extra Tree bagged model Roc curve\n",
        "y_pred_proba = extr_bagged_clf.predict_proba(X_test)[::,1]\n",
        "fpr, tpr, _ = roc_curve(y_test,  y_pred_proba)\n",
        "auc = roc_auc_score(y_test, y_pred_proba)\n",
        "plt.plot(fpr,tpr,label=\"Extra Tree Bagged, auc=\"+str(auc))\n",
        "\n",
        "#Show legend and show plot\n",
        "plt.legend(loc=4)\n",
        "plt.show()"
      ],
      "execution_count": null,
      "outputs": []
    },
    {
      "cell_type": "markdown",
      "metadata": {
        "id": "SE2GdOd8l0L6"
      },
      "source": [
        "### Deep Learning Neural Network for Imbalanced Data"
      ]
    },
    {
      "cell_type": "code",
      "metadata": {
        "id": "r7TmtbkXklWZ"
      },
      "source": [
        "# train test split\n",
        "from sklearn.model_selection import train_test_split\n",
        "\n",
        "X_train, X_test, y_train, y_test = train_test_split(X, y, test_size=0.33, shuffle=True, random_state=32)\n",
        "X_test, X_val, y_test, y_val = train_test_split(X, y, test_size=0.55, shuffle=True, random_state=32)"
      ],
      "execution_count": null,
      "outputs": []
    },
    {
      "cell_type": "code",
      "metadata": {
        "id": "eDK8sbHPl5RH"
      },
      "source": [
        "#Show metrics from tensorflow\n",
        "import tensorflow.keras as keras\n",
        "METRICS = [\n",
        "      keras.metrics.TruePositives(name='tp'),\n",
        "      keras.metrics.FalsePositives(name='fp'),\n",
        "      keras.metrics.TrueNegatives(name='tn'),\n",
        "      keras.metrics.FalseNegatives(name='fn'), \n",
        "      keras.metrics.BinaryAccuracy(name='accuracy'),\n",
        "      keras.metrics.Precision(name='precision'),\n",
        "      keras.metrics.Recall(name='recall'),\n",
        "      keras.metrics.AUC(name='auc'),\n",
        "]\n",
        "\n",
        "def make_model(metrics = METRICS, output_bias=None):\n",
        "  if output_bias is not None:\n",
        "    output_bias = tf.keras.initializers.Constant(output_bias)\n",
        "  model = keras.Sequential([\n",
        "      keras.layers.Dense(\n",
        "          16, activation='relu',\n",
        "          input_shape=(X_train.shape[-1],)),\n",
        "      keras.layers.Dropout(0.5),\n",
        "      keras.layers.Dense(1, activation='sigmoid',\n",
        "                         bias_initializer=output_bias),\n",
        "  ])\n",
        "\n",
        "  model.compile(\n",
        "      optimizer=keras.optimizers.Adam(lr=1e-3),\n",
        "      loss=keras.losses.BinaryCrossentropy(),\n",
        "      metrics=metrics)\n",
        "\n",
        "  return model"
      ],
      "execution_count": null,
      "outputs": []
    },
    {
      "cell_type": "code",
      "metadata": {
        "id": "-VpU5StHmbst"
      },
      "source": [
        "EPOCHS = 100\n",
        "BATCH_SIZE = 32\n",
        "\n",
        "early_stopping = keras.callbacks.EarlyStopping(\n",
        "    monitor='val_auc', \n",
        "    verbose=1,\n",
        "    patience=10,\n",
        "    mode='max', \n",
        "    restore_best_weights=True)"
      ],
      "execution_count": null,
      "outputs": []
    },
    {
      "cell_type": "code",
      "metadata": {
        "id": "f-r0JApImcd5"
      },
      "source": [
        "model = make_model()\n",
        "model.summary()"
      ],
      "execution_count": null,
      "outputs": []
    },
    {
      "cell_type": "code",
      "metadata": {
        "id": "-fQ39Cvymjht"
      },
      "source": [
        "baseline_history = model.fit(\n",
        "    X_train,\n",
        "    y_train,\n",
        "    batch_size=BATCH_SIZE,\n",
        "    epochs=EPOCHS,\n",
        "    callbacks = [early_stopping],\n",
        "    validation_data=(X_val, y_val))"
      ],
      "execution_count": null,
      "outputs": []
    },
    {
      "cell_type": "code",
      "metadata": {
        "id": "GOMlbj2jzv-t"
      },
      "source": [
        "import matplotlib.pyplot as plt\n",
        "colors = plt.rcParams['axes.prop_cycle'].by_key()['color']\n",
        "plt.rcParams['figure.figsize'] = (12, 10)\n",
        "\n",
        "#Plot metrics\n",
        "def plot_metrics(history):\n",
        "  metrics =  ['loss', 'auc', 'precision', 'recall']\n",
        "  for n, metric in enumerate(metrics):\n",
        "    name = metric.replace(\"_\",\" \").capitalize()\n",
        "    plt.subplot(2,2,n+1)\n",
        "    plt.plot(history.epoch,  history.history[metric], color=colors[0], label='Train')\n",
        "    plt.plot(history.epoch, history.history['val_'+metric],\n",
        "             color=colors[0], linestyle=\"--\", label='Val')\n",
        "    plt.xlabel('Epoch')\n",
        "    plt.ylabel(name)\n",
        "    if metric == 'loss':\n",
        "      plt.ylim([0, plt.ylim()[1]])\n",
        "    elif metric == 'auc':\n",
        "      plt.ylim([0.8,1])\n",
        "    else:\n",
        "      plt.ylim([0,1])\n",
        "\n",
        "    plt.legend()\n",
        "plot_metrics(baseline_history)"
      ],
      "execution_count": null,
      "outputs": []
    },
    {
      "cell_type": "markdown",
      "metadata": {
        "id": "9cta-4Ic4Pp5"
      },
      "source": [
        "##Dimensionality Reduction with TruncatedSVD"
      ]
    },
    {
      "cell_type": "code",
      "metadata": {
        "id": "Z87XInRGt2xs"
      },
      "source": [
        "from sklearn.decomposition import TruncatedSVD\n",
        "# fit and transform data\n",
        "svd = TruncatedSVD(n_components=5, n_iter=7, random_state=42)\n",
        "svd.fit(X_train) \n",
        "svd.fit(X_test)        "
      ],
      "execution_count": null,
      "outputs": []
    },
    {
      "cell_type": "code",
      "metadata": {
        "id": "yA09fWhI5QNk"
      },
      "source": [
        "from sklearn.metrics import silhouette_score\n",
        "from sklearn.manifold import TSNE\n",
        "from sklearn.cluster import KMeans\n",
        "\n",
        "X_train2 = X_train.copy()\n",
        "\n",
        "tsne = TSNE(n_components=3, verbose=1, perplexity=50, n_iter=500, learning_rate=200)\n",
        "tsne_scale_results = tsne.fit_transform(X_train2)\n",
        "tsne_df_scale = pd.DataFrame(tsne_scale_results, columns=['tsne1', 'tsne2', 'tsne3'])\n",
        "\n",
        "kmeans_tsne_scale = KMeans(n_clusters=4, n_init=100, max_iter=400, init='k-means++', random_state=42).fit(tsne_df_scale)\n",
        "print('KMeans tSNE Scaled Silhouette Score: {}'.format(silhouette_score(tsne_df_scale, kmeans_tsne_scale.labels_, metric='euclidean')))\n",
        "labels_tsne_scale = kmeans_tsne_scale.labels_\n",
        "clusters_tsne_scale = pd.concat([tsne_df_scale, pd.DataFrame({'tsne_clusters':labels_tsne_scale})], axis=1)"
      ],
      "execution_count": null,
      "outputs": []
    },
    {
      "cell_type": "code",
      "metadata": {
        "id": "TuTHlnJT6MSG"
      },
      "source": [
        "from sklearn.cluster import KMeans\n",
        "sse = []\n",
        "k_list = range(1, 15)\n",
        "for k in k_list:\n",
        "    km = KMeans(n_clusters=k)\n",
        "    km.fit(X_train2)\n",
        "    sse.append([k, km.inertia_])\n",
        "    \n",
        "tsne_results_scale = pd.DataFrame({'Cluster': range(1,15), 'SSE': sse})\n",
        "plt.figure(figsize=(12,6))\n",
        "plt.plot(pd.DataFrame(sse)[0], pd.DataFrame(sse)[1], marker='o')\n",
        "plt.title('Optimal Number of Clusters using Elbow Method (tSNE_Scaled Data)')\n",
        "plt.xlabel('Number of clusters')\n",
        "plt.ylabel('Inertia')"
      ],
      "execution_count": null,
      "outputs": []
    },
    {
      "cell_type": "code",
      "metadata": {
        "id": "mz6gKVlq6iqk"
      },
      "source": [
        "import plotly.graph_objs as go\n",
        "\n",
        "Scene = dict(xaxis = dict(title  = 'tsne1'),yaxis = dict(title  = 'tsne2'),zaxis = dict(title  = 'tsne3'))\n",
        "labels = labels_tsne_scale\n",
        "trace = go.Scatter3d(x=clusters_tsne_scale.iloc[:,0], y=clusters_tsne_scale.iloc[:,2], z=clusters_tsne_scale.iloc[:,1], mode='markers',marker=dict(color = labels, colorscale='Viridis', size = 10, line = dict(color = 'yellow',width = 5)))\n",
        "layout = go.Layout(margin=dict(l=0,r=0),scene = Scene, height = 1000,width = 1000)\n",
        "data = [trace]\n",
        "fig = go.Figure(data = data, layout = layout)\n",
        "fig.show()"
      ],
      "execution_count": null,
      "outputs": []
    },
    {
      "cell_type": "markdown",
      "metadata": {
        "id": "BhYDshYRz4vS"
      },
      "source": [
        "#Outlier Detection"
      ]
    },
    {
      "cell_type": "markdown",
      "metadata": {
        "id": "EniLvDnpz7-C"
      },
      "source": [
        "### LOF W/ TRUNCATED SVD\n",
        "\n",
        "I've read so many articles about how LOF is one of the most popular algorithms for anomaly detection, but usually it is used in a semi-supervised learning model. Here by itself, it appears to be less than effective. \n"
      ]
    },
    {
      "cell_type": "code",
      "metadata": {
        "id": "1gdlB0O9z3oM"
      },
      "source": [
        "from sklearn.neighbors import LocalOutlierFactor\n",
        "\n",
        "lof = LocalOutlierFactor(n_neighbors=4, novelty=True)\n",
        "lof.fit(X_train)"
      ],
      "execution_count": null,
      "outputs": []
    },
    {
      "cell_type": "code",
      "metadata": {
        "id": "zaL7LwP9l4nC"
      },
      "source": [
        "from sklearn.neighbors import LocalOutlierFactor\n",
        "\n",
        "lof = LocalOutlierFactor(n_neighbors=40, novelty=True)\n",
        "lof.fit(X_train)"
      ],
      "execution_count": null,
      "outputs": []
    },
    {
      "cell_type": "code",
      "metadata": {
        "id": "VeyqVk-6l68d"
      },
      "source": [
        "prediction = lof.predict(X_train)\n",
        "prediction[prediction==1] = 0\n",
        "prediction[prediction==-1] = 1"
      ],
      "execution_count": null,
      "outputs": []
    },
    {
      "cell_type": "code",
      "metadata": {
        "id": "_VYngBSemm3x"
      },
      "source": [
        "from sklearn.metrics import f1_score\n",
        "\n",
        "f1_score(y_train, prediction)"
      ],
      "execution_count": null,
      "outputs": []
    },
    {
      "cell_type": "code",
      "metadata": {
        "id": "Uf8Cri0nmnh8"
      },
      "source": [
        "prediction = lof.predict(X_test)\n",
        "prediction[prediction==1] = 0\n",
        "prediction[prediction==-1] = 1"
      ],
      "execution_count": null,
      "outputs": []
    },
    {
      "cell_type": "code",
      "metadata": {
        "id": "jHy1ECKumsfo"
      },
      "source": [
        "f1_score(y_test, prediction)"
      ],
      "execution_count": null,
      "outputs": []
    },
    {
      "cell_type": "code",
      "metadata": {
        "id": "CNY4fr9FmvAa"
      },
      "source": [
        "import seaborn as sns\n",
        "plt.rcParams['figure.figsize'] = (5, 5)\n",
        "#Get the confusion matrix\n",
        "cf_matrix = confusion_matrix(y_test, prediction)\n",
        "sns.heatmap(cf_matrix, annot=True, fmt='d')"
      ],
      "execution_count": null,
      "outputs": []
    },
    {
      "cell_type": "markdown",
      "metadata": {
        "id": "LW2oGndEmypl"
      },
      "source": [
        "#### Isolation Forest"
      ]
    },
    {
      "cell_type": "code",
      "metadata": {
        "id": "Cp-5Ox7qmxnf"
      },
      "source": [
        "from sklearn.ensemble import IsolationForest\n",
        "\n",
        "ifrst = IsolationForest(random_state=32)\n",
        "ifrst.fit(X_train)"
      ],
      "execution_count": null,
      "outputs": []
    },
    {
      "cell_type": "code",
      "metadata": {
        "id": "CKxhq-0Nm2PR"
      },
      "source": [
        "prediction = ifrst.predict(X_train)\n",
        "np.unique(prediction)"
      ],
      "execution_count": null,
      "outputs": []
    },
    {
      "cell_type": "code",
      "metadata": {
        "id": "FPJQ8CLkm5je"
      },
      "source": [
        "prediction[prediction==1] = 0\n",
        "prediction[prediction==-1] = 1\n",
        "\n",
        "f1_score(y_train, prediction)"
      ],
      "execution_count": null,
      "outputs": []
    },
    {
      "cell_type": "code",
      "metadata": {
        "id": "j7uwfCywm7xw"
      },
      "source": [
        "prediction = lof.predict(X_test)\n",
        "prediction[prediction==1] = 0\n",
        "prediction[prediction==-1] = 1"
      ],
      "execution_count": null,
      "outputs": []
    },
    {
      "cell_type": "code",
      "metadata": {
        "id": "AJKtiLG2nDsP"
      },
      "source": [
        "f1_score(y_test, prediction)"
      ],
      "execution_count": null,
      "outputs": []
    },
    {
      "cell_type": "code",
      "metadata": {
        "id": "l2hV5aFInH0l"
      },
      "source": [
        "#Get the confusion matrix\n",
        "cf_matrix = confusion_matrix(y_test, prediction)\n",
        "sns.heatmap(cf_matrix, annot=True, fmt='d')"
      ],
      "execution_count": null,
      "outputs": []
    },
    {
      "cell_type": "markdown",
      "metadata": {
        "id": "uVt1lPFUPQrj"
      },
      "source": [
        "#Best performing model"
      ]
    },
    {
      "cell_type": "markdown",
      "metadata": {
        "id": "uIPKeFetjrGx"
      },
      "source": [
        "#### Random Forest (Normal with GridsearchCV Parameter Tuned Configuration)\n"
      ]
    },
    {
      "cell_type": "code",
      "metadata": {
        "id": "BYm7XPqbhFg0"
      },
      "source": [
        "# Best Parameters :  {'criterion': 'entropy', 'n_estimators': 60}\n",
        "rndf_clf = RandomForestClassifier(criterion = 'gini', n_estimators= 60, random_state=32)\n",
        "rndf_clf.fit(X_train, y_train)\n",
        "acc_normal.append(rndf_clf.score(X_test, y_test))\n",
        "rndf_clf.score(X_test, y_test)\n",
        "\n",
        "y_pred=rndf_clf.predict(X_test)"
      ],
      "execution_count": null,
      "outputs": []
    },
    {
      "cell_type": "code",
      "metadata": {
        "id": "2tPH2yFXoQBn"
      },
      "source": [
        "print('*These are the metrics for the best performing model.* \\n')\n",
        "print(\"Confusion Matrix: \") \n",
        "print(confusion_matrix(X_train, y_train))\n",
        "print('')\n",
        "\n",
        "print (\"Accuracy : \")\n",
        "print(accuracy_score(X_train, y_train)*100) \n",
        "print('')\n",
        "\n",
        "print(\"Report : \")\n",
        "print(classification_report(X_train, y_train))"
      ],
      "execution_count": null,
      "outputs": []
    },
    {
      "cell_type": "code",
      "metadata": {
        "id": "QwAysxVSPjdJ"
      },
      "source": [
        "print('*These are the metrics for the best performing model.* \\n')\n",
        "print(\"Confusion Matrix: \") \n",
        "print(confusion_matrix(y_test, y_pred)) \n",
        "print('')\n",
        "\n",
        "print (\"Accuracy : \")\n",
        "print(accuracy_score(y_test, y_pred)*100) \n",
        "print('')\n",
        "\n",
        "print(\"Report : \")\n",
        "print(classification_report(y_test, y_pred))"
      ],
      "execution_count": null,
      "outputs": []
    },
    {
      "cell_type": "markdown",
      "metadata": {
        "id": "Y2nP2ykQPMob"
      },
      "source": [
        "#Conclusion\n",
        "\n",
        "Fraud detection is a very important and expensive problem is needed by literally any company on earth that handles the exchange of currency. \n",
        "According to the Nilson Report for global statistics, fraud losses worldwide reached $27.85 billion in 2018, and are expected to rise about 28% year over year over the next 4 years. <br>\n",
        "Several algorithms have been implemented on same data set to detect the credit cards frauds. All the algorithms have been analyzed and compared on basis of accuracy on basis of predicting normal cases and outliers or frauds. I  implemented different type of algorithms which include neural network from deep learning, anomaly detection algorithms like isolation forest, Local Outlier Factor, classification algorithms like Random Forest, Extre trees, etc.. This was done to attain the best approach for the purpose.\n",
        "Upon analyzing we get to know that the Random Forest was the best perfoming model. Anomaly detection is quite difficult an in many respects if far behond the scope of basic models. Although this does not completely solve the issue of fraud detection in a way that is immediately applicable in the field as a marketable solution, this does serve as a form of research on how to manager and implement the techniques that would be step 1 of 4 in achieving that end result. In the real world, the actualy anomaly detection techniques implemented are far more sophisticated, and require research teams from the best minds in the world to solve this problem. <br><br>\n",
        "The data would need to be undersampled and combined with semi-supervised learning, some of which includes convolutionaly neural networks as a precursor to bootstrapping the creation of meta-classifiers that then are fed into supervised ensembles.  In the real world of Fin-tech the best model to date has been created by M.I.T., it's called DFS or (*Deep Feature Synthesis*) which has over 200 features and touts an F1 score of .56. <br>\n",
        "\n",
        "After trying 12 different models, I've learned that the only way I know of to improve this model would be to include semi-supervised learning. In reality this system's real world use case would be to serve as a basis for research of the subject of anomaly detection. "
      ]
    },
    {
      "cell_type": "markdown",
      "metadata": {
        "id": "keGeuqvtyulC"
      },
      "source": [
        "##Futurework \n",
        "\n",
        "I tried to include reverse geocoding with the latitude and longitude of the merchants and customers, in order to compare the distance between the two. It would be quite helpful to create a system that includes RFID passive synchronization that acts as a 2FA (2 factor authorization) with the user's mobile phone 'password manager', that runs in the background without any input from the user. Atlease this would cut down on the instances of stolen CC info, when a thief tries to use the stolen card at point of sale merchant, and is declined because the mobile device that syncs with the RFID cannot be detected. Any purchases that occured via the net would be weighted towards more false positives in order to increase the accuracy, with the creation of a semi-supervised learning model that uses autoencoders to create meta-classifiers, and specialized features that could be added on models as the types of fraud changed over time. "
      ]
    }
  ]
}